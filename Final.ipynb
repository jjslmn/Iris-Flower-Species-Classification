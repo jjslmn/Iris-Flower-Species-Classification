{
 "cells": [
  {
   "cell_type": "markdown",
   "id": "8974e900",
   "metadata": {},
   "source": [
    "# Final Project\n",
    "\n",
    "**Joshua Salmon**"
   ]
  },
  {
   "cell_type": "code",
   "execution_count": 1,
   "id": "6f4c6acb",
   "metadata": {},
   "outputs": [],
   "source": [
    "import numpy as np\n",
    "import pandas as pd\n",
    "import matplotlib.pyplot as plt\n",
    "import seaborn as sns\n",
    "\n",
    "from sklearn.impute import SimpleImputer\n",
    "from sklearn.preprocessing import StandardScaler, OneHotEncoder\n",
    "from sklearn.compose import ColumnTransformer\n",
    "from sklearn.pipeline import Pipeline\n",
    "\n",
    "from sklearn.model_selection import train_test_split, cross_val_score, cross_val_predict\n",
    "\n",
    "from sklearn.linear_model import LogisticRegression\n",
    "from sklearn.tree import DecisionTreeClassifier\n",
    "from sklearn.ensemble import RandomForestClassifier\n",
    "from sklearn.neighbors import KNeighborsClassifier\n",
    "\n",
    "from sklearn.model_selection import GridSearchCV\n",
    "\n",
    "from sklearn.metrics import classification_report, confusion_matrix, RocCurveDisplay\n",
    "\n",
    "from sklearn.ensemble import VotingClassifier\n",
    "\n",
    "cv = 5"
   ]
  },
  {
   "cell_type": "markdown",
   "id": "ef2f7598",
   "metadata": {},
   "source": [
    "# Load and Process the Iris data"
   ]
  },
  {
   "cell_type": "code",
   "execution_count": 2,
   "id": "f8da11ac",
   "metadata": {
    "scrolled": false
   },
   "outputs": [
    {
     "data": {
      "text/html": [
       "<div>\n",
       "<style scoped>\n",
       "    .dataframe tbody tr th:only-of-type {\n",
       "        vertical-align: middle;\n",
       "    }\n",
       "\n",
       "    .dataframe tbody tr th {\n",
       "        vertical-align: top;\n",
       "    }\n",
       "\n",
       "    .dataframe thead th {\n",
       "        text-align: right;\n",
       "    }\n",
       "</style>\n",
       "<table border=\"1\" class=\"dataframe\">\n",
       "  <thead>\n",
       "    <tr style=\"text-align: right;\">\n",
       "      <th></th>\n",
       "      <th>sepal_length</th>\n",
       "      <th>sepal_width</th>\n",
       "      <th>petal_length</th>\n",
       "      <th>petal_width</th>\n",
       "      <th>species</th>\n",
       "    </tr>\n",
       "  </thead>\n",
       "  <tbody>\n",
       "    <tr>\n",
       "      <th>14</th>\n",
       "      <td>4.8</td>\n",
       "      <td>3.1</td>\n",
       "      <td>1.6</td>\n",
       "      <td>0.2</td>\n",
       "      <td>setosa</td>\n",
       "    </tr>\n",
       "    <tr>\n",
       "      <th>98</th>\n",
       "      <td>6.5</td>\n",
       "      <td>3.0</td>\n",
       "      <td>5.2</td>\n",
       "      <td>2.0</td>\n",
       "      <td>virginica</td>\n",
       "    </tr>\n",
       "    <tr>\n",
       "      <th>75</th>\n",
       "      <td>7.0</td>\n",
       "      <td>3.2</td>\n",
       "      <td>4.7</td>\n",
       "      <td>1.4</td>\n",
       "      <td>versicolor</td>\n",
       "    </tr>\n",
       "    <tr>\n",
       "      <th>16</th>\n",
       "      <td>6.9</td>\n",
       "      <td>3.1</td>\n",
       "      <td>5.1</td>\n",
       "      <td>2.3</td>\n",
       "      <td>virginica</td>\n",
       "    </tr>\n",
       "    <tr>\n",
       "      <th>131</th>\n",
       "      <td>6.5</td>\n",
       "      <td>2.8</td>\n",
       "      <td>4.6</td>\n",
       "      <td>1.5</td>\n",
       "      <td>versicolor</td>\n",
       "    </tr>\n",
       "    <tr>\n",
       "      <th>56</th>\n",
       "      <td>5.7</td>\n",
       "      <td>2.8</td>\n",
       "      <td>4.5</td>\n",
       "      <td>1.3</td>\n",
       "      <td>versicolor</td>\n",
       "    </tr>\n",
       "    <tr>\n",
       "      <th>141</th>\n",
       "      <td>5.5</td>\n",
       "      <td>2.4</td>\n",
       "      <td>3.7</td>\n",
       "      <td>1.0</td>\n",
       "      <td>versicolor</td>\n",
       "    </tr>\n",
       "    <tr>\n",
       "      <th>44</th>\n",
       "      <td>4.9</td>\n",
       "      <td>2.4</td>\n",
       "      <td>3.3</td>\n",
       "      <td>1.0</td>\n",
       "      <td>versicolor</td>\n",
       "    </tr>\n",
       "    <tr>\n",
       "      <th>29</th>\n",
       "      <td>6.7</td>\n",
       "      <td>3.0</td>\n",
       "      <td>5.2</td>\n",
       "      <td>2.3</td>\n",
       "      <td>virginica</td>\n",
       "    </tr>\n",
       "    <tr>\n",
       "      <th>120</th>\n",
       "      <td>5.0</td>\n",
       "      <td>2.0</td>\n",
       "      <td>3.5</td>\n",
       "      <td>1.0</td>\n",
       "      <td>versicolor</td>\n",
       "    </tr>\n",
       "  </tbody>\n",
       "</table>\n",
       "</div>"
      ],
      "text/plain": [
       "     sepal_length  sepal_width  petal_length  petal_width     species\n",
       "14            4.8          3.1           1.6          0.2      setosa\n",
       "98            6.5          3.0           5.2          2.0   virginica\n",
       "75            7.0          3.2           4.7          1.4  versicolor\n",
       "16            6.9          3.1           5.1          2.3   virginica\n",
       "131           6.5          2.8           4.6          1.5  versicolor\n",
       "56            5.7          2.8           4.5          1.3  versicolor\n",
       "141           5.5          2.4           3.7          1.0  versicolor\n",
       "44            4.9          2.4           3.3          1.0  versicolor\n",
       "29            6.7          3.0           5.2          2.3   virginica\n",
       "120           5.0          2.0           3.5          1.0  versicolor"
      ]
     },
     "execution_count": 2,
     "metadata": {},
     "output_type": "execute_result"
    }
   ],
   "source": [
    "iris_main = pd.read_csv('iris_flowers.csv')\n",
    "iris_main = iris_main.sample(frac=1, random_state=1)\n",
    "iris_main.head(10)"
   ]
  },
  {
   "cell_type": "markdown",
   "id": "8390e9f7",
   "metadata": {},
   "source": [
    "### Proportion of each feature"
   ]
  },
  {
   "cell_type": "code",
   "execution_count": 3,
   "id": "d3302faa",
   "metadata": {
    "scrolled": true
   },
   "outputs": [
    {
     "data": {
      "text/html": [
       "<div>\n",
       "<style scoped>\n",
       "    .dataframe tbody tr th:only-of-type {\n",
       "        vertical-align: middle;\n",
       "    }\n",
       "\n",
       "    .dataframe tbody tr th {\n",
       "        vertical-align: top;\n",
       "    }\n",
       "\n",
       "    .dataframe thead th {\n",
       "        text-align: right;\n",
       "    }\n",
       "</style>\n",
       "<table border=\"1\" class=\"dataframe\">\n",
       "  <thead>\n",
       "    <tr style=\"text-align: right;\">\n",
       "      <th></th>\n",
       "      <th>species</th>\n",
       "    </tr>\n",
       "  </thead>\n",
       "  <tbody>\n",
       "    <tr>\n",
       "      <th>setosa</th>\n",
       "      <td>0.333333</td>\n",
       "    </tr>\n",
       "    <tr>\n",
       "      <th>virginica</th>\n",
       "      <td>0.333333</td>\n",
       "    </tr>\n",
       "    <tr>\n",
       "      <th>versicolor</th>\n",
       "      <td>0.333333</td>\n",
       "    </tr>\n",
       "  </tbody>\n",
       "</table>\n",
       "</div>"
      ],
      "text/plain": [
       "             species\n",
       "setosa      0.333333\n",
       "virginica   0.333333\n",
       "versicolor  0.333333"
      ]
     },
     "execution_count": 3,
     "metadata": {},
     "output_type": "execute_result"
    }
   ],
   "source": [
    "proportions = iris_main['species'].value_counts(normalize=True).to_frame()\n",
    "proportions"
   ]
  },
  {
   "cell_type": "markdown",
   "id": "1a99fabb",
   "metadata": {},
   "source": [
    "### Null features"
   ]
  },
  {
   "cell_type": "code",
   "execution_count": 4,
   "id": "78084215",
   "metadata": {
    "scrolled": true
   },
   "outputs": [
    {
     "data": {
      "text/html": [
       "<div>\n",
       "<style scoped>\n",
       "    .dataframe tbody tr th:only-of-type {\n",
       "        vertical-align: middle;\n",
       "    }\n",
       "\n",
       "    .dataframe tbody tr th {\n",
       "        vertical-align: top;\n",
       "    }\n",
       "\n",
       "    .dataframe thead th {\n",
       "        text-align: right;\n",
       "    }\n",
       "</style>\n",
       "<table border=\"1\" class=\"dataframe\">\n",
       "  <thead>\n",
       "    <tr style=\"text-align: right;\">\n",
       "      <th></th>\n",
       "      <th>sepal_length</th>\n",
       "      <th>sepal_width</th>\n",
       "      <th>petal_length</th>\n",
       "      <th>petal_width</th>\n",
       "      <th>species</th>\n",
       "    </tr>\n",
       "  </thead>\n",
       "  <tbody>\n",
       "    <tr>\n",
       "      <th>0</th>\n",
       "      <td>0</td>\n",
       "      <td>0</td>\n",
       "      <td>0</td>\n",
       "      <td>0</td>\n",
       "      <td>0</td>\n",
       "    </tr>\n",
       "  </tbody>\n",
       "</table>\n",
       "</div>"
      ],
      "text/plain": [
       "   sepal_length  sepal_width  petal_length  petal_width  species\n",
       "0             0            0             0            0        0"
      ]
     },
     "execution_count": 4,
     "metadata": {},
     "output_type": "execute_result"
    }
   ],
   "source": [
    "iris_main.isnull().sum().to_frame().T"
   ]
  },
  {
   "cell_type": "markdown",
   "id": "ec4d9d6c",
   "metadata": {},
   "source": [
    "### Unique features"
   ]
  },
  {
   "cell_type": "code",
   "execution_count": 5,
   "id": "53b23cec",
   "metadata": {
    "scrolled": false
   },
   "outputs": [
    {
     "data": {
      "text/html": [
       "<div>\n",
       "<style scoped>\n",
       "    .dataframe tbody tr th:only-of-type {\n",
       "        vertical-align: middle;\n",
       "    }\n",
       "\n",
       "    .dataframe tbody tr th {\n",
       "        vertical-align: top;\n",
       "    }\n",
       "\n",
       "    .dataframe thead th {\n",
       "        text-align: right;\n",
       "    }\n",
       "</style>\n",
       "<table border=\"1\" class=\"dataframe\">\n",
       "  <thead>\n",
       "    <tr style=\"text-align: right;\">\n",
       "      <th></th>\n",
       "      <th>sepal_length</th>\n",
       "      <th>sepal_width</th>\n",
       "      <th>petal_length</th>\n",
       "      <th>petal_width</th>\n",
       "      <th>species</th>\n",
       "    </tr>\n",
       "  </thead>\n",
       "  <tbody>\n",
       "    <tr>\n",
       "      <th>0</th>\n",
       "      <td>35</td>\n",
       "      <td>23</td>\n",
       "      <td>43</td>\n",
       "      <td>22</td>\n",
       "      <td>3</td>\n",
       "    </tr>\n",
       "  </tbody>\n",
       "</table>\n",
       "</div>"
      ],
      "text/plain": [
       "   sepal_length  sepal_width  petal_length  petal_width  species\n",
       "0            35           23            43           22        3"
      ]
     },
     "execution_count": 5,
     "metadata": {},
     "output_type": "execute_result"
    }
   ],
   "source": [
    "iris_main.nunique().to_frame().T"
   ]
  },
  {
   "cell_type": "markdown",
   "id": "8c06ffa9",
   "metadata": {},
   "source": [
    "### Seaborn Pairplot"
   ]
  },
  {
   "cell_type": "code",
   "execution_count": 6,
   "id": "45ad58bd",
   "metadata": {},
   "outputs": [
    {
     "data": {
      "image/png": "[encoded data removed]",
      "text/plain": [
       "<Figure size 1117.75x1000 with 20 Axes>"
      ]
     },
     "metadata": {},
     "output_type": "display_data"
    }
   ],
   "source": [
    "sns.pairplot(iris_main, hue=\"species\")\n",
    "plt.show()"
   ]
  },
  {
   "cell_type": "markdown",
   "id": "9fa30006",
   "metadata": {},
   "source": [
    "# Preprocessing"
   ]
  },
  {
   "cell_type": "code",
   "execution_count": 7,
   "id": "dfcb9e31",
   "metadata": {},
   "outputs": [],
   "source": [
    "x = iris_main.iloc[:,:4].values\n",
    "y = iris_main.species.values\n",
    "x_train_raw, x_test_raw, y_train, y_test = train_test_split(x, y, test_size=0.2, stratify=y, random_state=1)\n",
    "\n",
    "def preprocessing(x, y):    \n",
    "    x_features = Pipeline(\n",
    "    steps = [\n",
    "        ('imputer', SimpleImputer(strategy='mean')),\n",
    "        ('scaler', StandardScaler())\n",
    "    ])\n",
    "    \n",
    "    x_features.fit(x_train_raw)\n",
    "    x_train = x_features.transform(x_train_raw)\n",
    "    x_test = x_features.transform(x_test_raw)\n",
    "    \n",
    "\n",
    "    return x_train, y_train, x_test, y_test;"
   ]
  },
  {
   "cell_type": "markdown",
   "id": "abe29290",
   "metadata": {},
   "source": [
    "# Data sets"
   ]
  },
  {
   "cell_type": "code",
   "execution_count": 8,
   "id": "34fd2753",
   "metadata": {
    "scrolled": true
   },
   "outputs": [
    {
     "data": {
      "text/html": [
       "<div>\n",
       "<style scoped>\n",
       "    .dataframe tbody tr th:only-of-type {\n",
       "        vertical-align: middle;\n",
       "    }\n",
       "\n",
       "    .dataframe tbody tr th {\n",
       "        vertical-align: top;\n",
       "    }\n",
       "\n",
       "    .dataframe thead th {\n",
       "        text-align: right;\n",
       "    }\n",
       "</style>\n",
       "<table border=\"1\" class=\"dataframe\">\n",
       "  <thead>\n",
       "    <tr style=\"text-align: right;\">\n",
       "      <th></th>\n",
       "      <th>sepal_length</th>\n",
       "      <th>sepal_width</th>\n",
       "      <th>petal_length</th>\n",
       "      <th>petal_width</th>\n",
       "      <th>species</th>\n",
       "    </tr>\n",
       "  </thead>\n",
       "  <tbody>\n",
       "    <tr>\n",
       "      <th>14</th>\n",
       "      <td>4.8</td>\n",
       "      <td>3.1</td>\n",
       "      <td>1.6</td>\n",
       "      <td>0.2</td>\n",
       "      <td>setosa</td>\n",
       "    </tr>\n",
       "    <tr>\n",
       "      <th>98</th>\n",
       "      <td>6.5</td>\n",
       "      <td>3.0</td>\n",
       "      <td>5.2</td>\n",
       "      <td>2.0</td>\n",
       "      <td>virginica</td>\n",
       "    </tr>\n",
       "    <tr>\n",
       "      <th>75</th>\n",
       "      <td>7.0</td>\n",
       "      <td>3.2</td>\n",
       "      <td>4.7</td>\n",
       "      <td>1.4</td>\n",
       "      <td>versicolor</td>\n",
       "    </tr>\n",
       "    <tr>\n",
       "      <th>16</th>\n",
       "      <td>6.9</td>\n",
       "      <td>3.1</td>\n",
       "      <td>5.1</td>\n",
       "      <td>2.3</td>\n",
       "      <td>virginica</td>\n",
       "    </tr>\n",
       "    <tr>\n",
       "      <th>131</th>\n",
       "      <td>6.5</td>\n",
       "      <td>2.8</td>\n",
       "      <td>4.6</td>\n",
       "      <td>1.5</td>\n",
       "      <td>versicolor</td>\n",
       "    </tr>\n",
       "    <tr>\n",
       "      <th>56</th>\n",
       "      <td>5.7</td>\n",
       "      <td>2.8</td>\n",
       "      <td>4.5</td>\n",
       "      <td>1.3</td>\n",
       "      <td>versicolor</td>\n",
       "    </tr>\n",
       "    <tr>\n",
       "      <th>141</th>\n",
       "      <td>5.5</td>\n",
       "      <td>2.4</td>\n",
       "      <td>3.7</td>\n",
       "      <td>1.0</td>\n",
       "      <td>versicolor</td>\n",
       "    </tr>\n",
       "    <tr>\n",
       "      <th>44</th>\n",
       "      <td>4.9</td>\n",
       "      <td>2.4</td>\n",
       "      <td>3.3</td>\n",
       "      <td>1.0</td>\n",
       "      <td>versicolor</td>\n",
       "    </tr>\n",
       "    <tr>\n",
       "      <th>29</th>\n",
       "      <td>6.7</td>\n",
       "      <td>3.0</td>\n",
       "      <td>5.2</td>\n",
       "      <td>2.3</td>\n",
       "      <td>virginica</td>\n",
       "    </tr>\n",
       "    <tr>\n",
       "      <th>120</th>\n",
       "      <td>5.0</td>\n",
       "      <td>2.0</td>\n",
       "      <td>3.5</td>\n",
       "      <td>1.0</td>\n",
       "      <td>versicolor</td>\n",
       "    </tr>\n",
       "  </tbody>\n",
       "</table>\n",
       "</div>"
      ],
      "text/plain": [
       "     sepal_length  sepal_width  petal_length  petal_width     species\n",
       "14            4.8          3.1           1.6          0.2      setosa\n",
       "98            6.5          3.0           5.2          2.0   virginica\n",
       "75            7.0          3.2           4.7          1.4  versicolor\n",
       "16            6.9          3.1           5.1          2.3   virginica\n",
       "131           6.5          2.8           4.6          1.5  versicolor\n",
       "56            5.7          2.8           4.5          1.3  versicolor\n",
       "141           5.5          2.4           3.7          1.0  versicolor\n",
       "44            4.9          2.4           3.3          1.0  versicolor\n",
       "29            6.7          3.0           5.2          2.3   virginica\n",
       "120           5.0          2.0           3.5          1.0  versicolor"
      ]
     },
     "execution_count": 8,
     "metadata": {},
     "output_type": "execute_result"
    }
   ],
   "source": [
    "# DS1 - Main data set\n",
    "iris_DF1 = iris_main.copy()\n",
    "\n",
    "x_DF1 = iris_DF1.iloc[:,:4].values\n",
    "y_DF1 = iris_DF1.species.values\n",
    "\n",
    "iris_DF1.head(10)"
   ]
  },
  {
   "cell_type": "code",
   "execution_count": 9,
   "id": "4dfaafc6",
   "metadata": {
    "scrolled": false
   },
   "outputs": [
    {
     "data": {
      "text/html": [
       "<div>\n",
       "<style scoped>\n",
       "    .dataframe tbody tr th:only-of-type {\n",
       "        vertical-align: middle;\n",
       "    }\n",
       "\n",
       "    .dataframe tbody tr th {\n",
       "        vertical-align: top;\n",
       "    }\n",
       "\n",
       "    .dataframe thead th {\n",
       "        text-align: right;\n",
       "    }\n",
       "</style>\n",
       "<table border=\"1\" class=\"dataframe\">\n",
       "  <thead>\n",
       "    <tr style=\"text-align: right;\">\n",
       "      <th></th>\n",
       "      <th>sepal_width</th>\n",
       "      <th>petal_width</th>\n",
       "      <th>petal_length</th>\n",
       "      <th>species</th>\n",
       "    </tr>\n",
       "  </thead>\n",
       "  <tbody>\n",
       "    <tr>\n",
       "      <th>78</th>\n",
       "      <td>3.0</td>\n",
       "      <td>2.1</td>\n",
       "      <td>6.6</td>\n",
       "      <td>virginica</td>\n",
       "    </tr>\n",
       "    <tr>\n",
       "      <th>109</th>\n",
       "      <td>2.3</td>\n",
       "      <td>1.3</td>\n",
       "      <td>4.0</td>\n",
       "      <td>versicolor</td>\n",
       "    </tr>\n",
       "    <tr>\n",
       "      <th>74</th>\n",
       "      <td>4.4</td>\n",
       "      <td>0.4</td>\n",
       "      <td>1.5</td>\n",
       "      <td>setosa</td>\n",
       "    </tr>\n",
       "    <tr>\n",
       "      <th>92</th>\n",
       "      <td>2.8</td>\n",
       "      <td>1.9</td>\n",
       "      <td>6.1</td>\n",
       "      <td>virginica</td>\n",
       "    </tr>\n",
       "    <tr>\n",
       "      <th>61</th>\n",
       "      <td>3.8</td>\n",
       "      <td>0.3</td>\n",
       "      <td>1.5</td>\n",
       "      <td>setosa</td>\n",
       "    </tr>\n",
       "    <tr>\n",
       "      <th>126</th>\n",
       "      <td>3.0</td>\n",
       "      <td>1.7</td>\n",
       "      <td>5.0</td>\n",
       "      <td>versicolor</td>\n",
       "    </tr>\n",
       "    <tr>\n",
       "      <th>134</th>\n",
       "      <td>3.4</td>\n",
       "      <td>0.4</td>\n",
       "      <td>1.6</td>\n",
       "      <td>setosa</td>\n",
       "    </tr>\n",
       "    <tr>\n",
       "      <th>58</th>\n",
       "      <td>2.8</td>\n",
       "      <td>1.2</td>\n",
       "      <td>4.7</td>\n",
       "      <td>versicolor</td>\n",
       "    </tr>\n",
       "    <tr>\n",
       "      <th>146</th>\n",
       "      <td>2.7</td>\n",
       "      <td>1.4</td>\n",
       "      <td>3.9</td>\n",
       "      <td>versicolor</td>\n",
       "    </tr>\n",
       "    <tr>\n",
       "      <th>47</th>\n",
       "      <td>3.0</td>\n",
       "      <td>1.6</td>\n",
       "      <td>5.8</td>\n",
       "      <td>virginica</td>\n",
       "    </tr>\n",
       "  </tbody>\n",
       "</table>\n",
       "</div>"
      ],
      "text/plain": [
       "     sepal_width  petal_width  petal_length     species\n",
       "78           3.0          2.1           6.6   virginica\n",
       "109          2.3          1.3           4.0  versicolor\n",
       "74           4.4          0.4           1.5      setosa\n",
       "92           2.8          1.9           6.1   virginica\n",
       "61           3.8          0.3           1.5      setosa\n",
       "126          3.0          1.7           5.0  versicolor\n",
       "134          3.4          0.4           1.6      setosa\n",
       "58           2.8          1.2           4.7  versicolor\n",
       "146          2.7          1.4           3.9  versicolor\n",
       "47           3.0          1.6           5.8   virginica"
      ]
     },
     "execution_count": 9,
     "metadata": {},
     "output_type": "execute_result"
    }
   ],
   "source": [
    "# DS2 - Removes sepal_length due to pairplot evalutation\n",
    "iris_DF2 = iris_main[['sepal_width', 'petal_width','petal_length','species']]\n",
    "iris_DF2 = iris_DF2.sample(frac=1, random_state=1)\n",
    "\n",
    "x_DF2 = iris_DF2.iloc[:,:3].values\n",
    "y_DF2 = iris_DF2.species.values\n",
    "\n",
    "iris_DF2.head(10)"
   ]
  },
  {
   "cell_type": "code",
   "execution_count": 10,
   "id": "4c52d3c4",
   "metadata": {
    "scrolled": true
   },
   "outputs": [
    {
     "data": {
      "text/html": [
       "<div>\n",
       "<style scoped>\n",
       "    .dataframe tbody tr th:only-of-type {\n",
       "        vertical-align: middle;\n",
       "    }\n",
       "\n",
       "    .dataframe tbody tr th {\n",
       "        vertical-align: top;\n",
       "    }\n",
       "\n",
       "    .dataframe thead th {\n",
       "        text-align: right;\n",
       "    }\n",
       "</style>\n",
       "<table border=\"1\" class=\"dataframe\">\n",
       "  <thead>\n",
       "    <tr style=\"text-align: right;\">\n",
       "      <th></th>\n",
       "      <th>log_sepal_width</th>\n",
       "      <th>log_petal_length</th>\n",
       "      <th>log_petal_width</th>\n",
       "      <th>species</th>\n",
       "    </tr>\n",
       "  </thead>\n",
       "  <tbody>\n",
       "    <tr>\n",
       "      <th>14</th>\n",
       "      <td>1.1314</td>\n",
       "      <td>0.4700</td>\n",
       "      <td>-1.6094</td>\n",
       "      <td>setosa</td>\n",
       "    </tr>\n",
       "    <tr>\n",
       "      <th>98</th>\n",
       "      <td>1.0986</td>\n",
       "      <td>1.6487</td>\n",
       "      <td>0.6931</td>\n",
       "      <td>virginica</td>\n",
       "    </tr>\n",
       "    <tr>\n",
       "      <th>75</th>\n",
       "      <td>1.1632</td>\n",
       "      <td>1.5476</td>\n",
       "      <td>0.3365</td>\n",
       "      <td>versicolor</td>\n",
       "    </tr>\n",
       "    <tr>\n",
       "      <th>16</th>\n",
       "      <td>1.1314</td>\n",
       "      <td>1.6292</td>\n",
       "      <td>0.8329</td>\n",
       "      <td>virginica</td>\n",
       "    </tr>\n",
       "    <tr>\n",
       "      <th>131</th>\n",
       "      <td>1.0296</td>\n",
       "      <td>1.5261</td>\n",
       "      <td>0.4055</td>\n",
       "      <td>versicolor</td>\n",
       "    </tr>\n",
       "    <tr>\n",
       "      <th>56</th>\n",
       "      <td>1.0296</td>\n",
       "      <td>1.5041</td>\n",
       "      <td>0.2624</td>\n",
       "      <td>versicolor</td>\n",
       "    </tr>\n",
       "    <tr>\n",
       "      <th>141</th>\n",
       "      <td>0.8755</td>\n",
       "      <td>1.3083</td>\n",
       "      <td>0.0000</td>\n",
       "      <td>versicolor</td>\n",
       "    </tr>\n",
       "    <tr>\n",
       "      <th>44</th>\n",
       "      <td>0.8755</td>\n",
       "      <td>1.1939</td>\n",
       "      <td>0.0000</td>\n",
       "      <td>versicolor</td>\n",
       "    </tr>\n",
       "    <tr>\n",
       "      <th>29</th>\n",
       "      <td>1.0986</td>\n",
       "      <td>1.6487</td>\n",
       "      <td>0.8329</td>\n",
       "      <td>virginica</td>\n",
       "    </tr>\n",
       "    <tr>\n",
       "      <th>120</th>\n",
       "      <td>0.6931</td>\n",
       "      <td>1.2528</td>\n",
       "      <td>0.0000</td>\n",
       "      <td>versicolor</td>\n",
       "    </tr>\n",
       "  </tbody>\n",
       "</table>\n",
       "</div>"
      ],
      "text/plain": [
       "     log_sepal_width  log_petal_length  log_petal_width     species\n",
       "14            1.1314            0.4700          -1.6094      setosa\n",
       "98            1.0986            1.6487           0.6931   virginica\n",
       "75            1.1632            1.5476           0.3365  versicolor\n",
       "16            1.1314            1.6292           0.8329   virginica\n",
       "131           1.0296            1.5261           0.4055  versicolor\n",
       "56            1.0296            1.5041           0.2624  versicolor\n",
       "141           0.8755            1.3083           0.0000  versicolor\n",
       "44            0.8755            1.1939           0.0000  versicolor\n",
       "29            1.0986            1.6487           0.8329   virginica\n",
       "120           0.6931            1.2528           0.0000  versicolor"
      ]
     },
     "execution_count": 10,
     "metadata": {},
     "output_type": "execute_result"
    }
   ],
   "source": [
    "# DS3 - Takes the log of all features but removes sepal_length completely. \n",
    "iris_DF3 = iris_main.copy()\n",
    "\n",
    "iris_DF3['log_sepal_width'] = np.log(iris_DF3.sepal_width).round(4)\n",
    "iris_DF3['log_petal_length'] = np.log(iris_DF3.petal_length).round(4)\n",
    "iris_DF3['log_petal_width'] = np.log(iris_DF3.petal_width).round(4)\n",
    "iris_DF3 = iris_DF3[['log_sepal_width','log_petal_length','log_petal_width','species']]\n",
    "\n",
    "x_DF3 = iris_DF3.iloc[:,:3].values\n",
    "y_DF3 = iris_DF3.species.values\n",
    "\n",
    "iris_DF3.head(10)"
   ]
  },
  {
   "cell_type": "markdown",
   "id": "9cbea736",
   "metadata": {},
   "source": [
    "# K-Nearest Neighbors"
   ]
  },
  {
   "cell_type": "markdown",
   "id": "11a5cdf1",
   "metadata": {},
   "source": [
    "### KNN Model 1"
   ]
  },
  {
   "cell_type": "code",
   "execution_count": 23,
   "id": "03654bf1",
   "metadata": {},
   "outputs": [],
   "source": [
    "x_train, y_train, _, _ = preprocessing(x_DF1, y_DF1)"
   ]
  },
  {
   "cell_type": "code",
   "execution_count": 24,
   "id": "944ac9e1",
   "metadata": {},
   "outputs": [
    {
     "name": "stdout",
     "output_type": "stream",
     "text": [
      "Best Parameters: {'n_neighbors': 3}\n",
      "Best CV Score:   95.83%\n"
     ]
    }
   ],
   "source": [
    "knn_clf1 = KNeighborsClassifier()\n",
    "\n",
    "knn_parameters = {\n",
    "    'n_neighbors': [1, 2, 3, 4, 5]\n",
    "}\n",
    "\n",
    "knn_grid1 = GridSearchCV(knn_clf1, knn_parameters, cv=cv, refit='True', n_jobs=-1)\n",
    "knn_grid1.fit(x_train, y_train)\n",
    "\n",
    "knn_mod1 = knn_grid1.best_estimator_\n",
    "\n",
    "print(f'Best Parameters: {knn_grid1.best_params_}')\n",
    "print(f'Best CV Score:   {round(knn_grid1.best_score_*100,2)}%')"
   ]
  },
  {
   "cell_type": "code",
   "execution_count": 25,
   "id": "dd5b9ee7",
   "metadata": {},
   "outputs": [
    {
     "name": "stdout",
     "output_type": "stream",
     "text": [
      "            setosa  versicolor  virginica\n",
      "setosa          40           0          0\n",
      "versicolor       0          36          4\n",
      "virginica        0           1         39 \n",
      "\n",
      "              precision    recall  f1-score   support\n",
      "\n",
      "      setosa       1.00      1.00      1.00        40\n",
      "  versicolor       0.91      0.97      0.94        40\n",
      "   virginica       0.97      0.90      0.94        40\n",
      "\n",
      "    accuracy                           0.96       120\n",
      "   macro avg       0.96      0.96      0.96       120\n",
      "weighted avg       0.96      0.96      0.96       120\n",
      "\n"
     ]
    }
   ],
   "source": [
    "cv_pred = cross_val_predict(knn_mod1, x_train, y_train, cv=cv)\n",
    "cm_knn_mod1 = confusion_matrix(y_train, cv_pred, labels=[\"setosa\", \"virginica\", \"versicolor\"])\n",
    "cm_knn_mod1_df = pd.DataFrame(cm_knn_mod1, index=[\"setosa\", \"versicolor\", \"virginica\"], columns=[\"setosa\", \"versicolor\", \"virginica\"])\n",
    "\n",
    "cr_knn_mod1 = classification_report(y_train, cv_pred)\n",
    "\n",
    "print(cm_knn_mod1_df,'\\n')\n",
    "print(cr_knn_mod1)"
   ]
  },
  {
   "cell_type": "markdown",
   "id": "7d3785a9",
   "metadata": {},
   "source": [
    "### KNN Model 2"
   ]
  },
  {
   "cell_type": "code",
   "execution_count": 26,
   "id": "53f9e064",
   "metadata": {},
   "outputs": [],
   "source": [
    "x_train, y_train, _, _ = preprocessing(x_DF2, y_DF2)"
   ]
  },
  {
   "cell_type": "code",
   "execution_count": 27,
   "id": "cab0a484",
   "metadata": {},
   "outputs": [
    {
     "name": "stdout",
     "output_type": "stream",
     "text": [
      "Best Parameters: {'n_neighbors': 3}\n",
      "Best CV Score:   95.83%\n"
     ]
    }
   ],
   "source": [
    "knn_clf2 = KNeighborsClassifier()\n",
    "\n",
    "knn_parameters = {\n",
    "    'n_neighbors': [1, 2, 3, 4, 5]\n",
    "}\n",
    "\n",
    "knn_grid2 = GridSearchCV(knn_clf2, knn_parameters, cv=cv, refit='True', n_jobs=-1)\n",
    "knn_grid2.fit(x_train, y_train)\n",
    "\n",
    "knn_mod2 = knn_grid2.best_estimator_\n",
    "\n",
    "print(f'Best Parameters: {knn_grid2.best_params_}')\n",
    "print(f'Best CV Score:   {round(knn_grid2.best_score_*100,2)}%')"
   ]
  },
  {
   "cell_type": "code",
   "execution_count": 28,
   "id": "a318ebc1",
   "metadata": {},
   "outputs": [
    {
     "name": "stdout",
     "output_type": "stream",
     "text": [
      "            setosa  versicolor  virginica\n",
      "setosa          40           0          0\n",
      "versicolor       0          36          4\n",
      "virginica        0           1         39 \n",
      "\n",
      "              precision    recall  f1-score   support\n",
      "\n",
      "      setosa       1.00      1.00      1.00        40\n",
      "  versicolor       0.91      0.97      0.94        40\n",
      "   virginica       0.97      0.90      0.94        40\n",
      "\n",
      "    accuracy                           0.96       120\n",
      "   macro avg       0.96      0.96      0.96       120\n",
      "weighted avg       0.96      0.96      0.96       120\n",
      "\n"
     ]
    }
   ],
   "source": [
    "cv_pred = cross_val_predict(knn_mod2, x_train, y_train, cv=cv)\n",
    "cm_knn_mod2 = confusion_matrix(y_train, cv_pred, labels=[\"setosa\", \"virginica\", \"versicolor\"])\n",
    "cm_knn_mod2_df = pd.DataFrame(cm_knn_mod2, index=[\"setosa\", \"versicolor\", \"virginica\"], columns=[\"setosa\", \"versicolor\", \"virginica\"])\n",
    "\n",
    "cr_knn_mod2 = classification_report(y_train, cv_pred)\n",
    "\n",
    "print(cm_knn_mod2_df,'\\n')\n",
    "print(cr_knn_mod2)"
   ]
  },
  {
   "cell_type": "markdown",
   "id": "3ab5fc3a",
   "metadata": {},
   "source": [
    "### KNN Model 3"
   ]
  },
  {
   "cell_type": "code",
   "execution_count": 29,
   "id": "83d551b0",
   "metadata": {},
   "outputs": [],
   "source": [
    "x_train, y_train, _, _ = preprocessing(x_DF3, y_DF3)"
   ]
  },
  {
   "cell_type": "code",
   "execution_count": 30,
   "id": "b78a3b4e",
   "metadata": {},
   "outputs": [
    {
     "name": "stdout",
     "output_type": "stream",
     "text": [
      "Best Parameters: {'n_neighbors': 3}\n",
      "Best CV Score:   95.83%\n"
     ]
    }
   ],
   "source": [
    "knn_clf3 = KNeighborsClassifier()\n",
    "\n",
    "knn_parameters = {\n",
    "    'n_neighbors': [1, 2, 3, 4, 5]\n",
    "}\n",
    "\n",
    "knn_grid3 = GridSearchCV(knn_clf3, knn_parameters, cv=cv, refit='True', n_jobs=-1)\n",
    "knn_grid3.fit(x_train, y_train)\n",
    "\n",
    "knn_mod3 = knn_grid3.best_estimator_\n",
    "\n",
    "print(f'Best Parameters: {knn_grid3.best_params_}')\n",
    "print(f'Best CV Score:   {round(knn_grid3.best_score_*100,2)}%')"
   ]
  },
  {
   "cell_type": "code",
   "execution_count": 31,
   "id": "5cd6dfa5",
   "metadata": {
    "scrolled": true
   },
   "outputs": [
    {
     "name": "stdout",
     "output_type": "stream",
     "text": [
      "            setosa  versicolor  virginica\n",
      "setosa          40           0          0\n",
      "versicolor       0          36          4\n",
      "virginica        0           1         39 \n",
      "\n",
      "              precision    recall  f1-score   support\n",
      "\n",
      "      setosa       1.00      1.00      1.00        40\n",
      "  versicolor       0.91      0.97      0.94        40\n",
      "   virginica       0.97      0.90      0.94        40\n",
      "\n",
      "    accuracy                           0.96       120\n",
      "   macro avg       0.96      0.96      0.96       120\n",
      "weighted avg       0.96      0.96      0.96       120\n",
      "\n"
     ]
    }
   ],
   "source": [
    "cv_pred = cross_val_predict(knn_mod3, x_train, y_train, cv=cv)\n",
    "cm_knn_mod3 = confusion_matrix(y_train, cv_pred, labels=[\"setosa\", \"virginica\", \"versicolor\"])\n",
    "cm_knn_mod3_df = pd.DataFrame(cm_knn_mod3, index=[\"setosa\", \"versicolor\", \"virginica\"], columns=[\"setosa\", \"versicolor\", \"virginica\"])\n",
    "\n",
    "cr_knn_mod3 = classification_report(y_train, cv_pred)\n",
    "\n",
    "print(cm_knn_mod3_df,'\\n')\n",
    "print(cr_knn_mod3)"
   ]
  },
  {
   "cell_type": "markdown",
   "id": "877bb2f9",
   "metadata": {},
   "source": [
    "### Final KNN Model"
   ]
  },
  {
   "cell_type": "code",
   "execution_count": 32,
   "id": "1ca3c0cf",
   "metadata": {
    "scrolled": true
   },
   "outputs": [
    {
     "name": "stdout",
     "output_type": "stream",
     "text": [
      "KNN Cross-Validation-Score: 95.83%\n"
     ]
    }
   ],
   "source": [
    "x_train, y_train, _, _ = preprocessing(x_DF1, y_DF1)\n",
    "knn_mod = KNeighborsClassifier(n_neighbors=3)# All three data sets say 3 is the best parameter.\n",
    "knn_mod.fit(x_train, y_train)\n",
    "\n",
    "knn_cv_score = cross_val_score(knn_mod, x_train, y_train, cv=cv, n_jobs=-1).mean().round(4)\n",
    "print(f'KNN Cross-Validation-Score: {knn_cv_score*100}%')"
   ]
  },
  {
   "cell_type": "code",
   "execution_count": 33,
   "id": "0a869512",
   "metadata": {},
   "outputs": [
    {
     "name": "stdout",
     "output_type": "stream",
     "text": [
      "            setosa  versicolor  virginica\n",
      "setosa          40           0          0\n",
      "versicolor       0          36          4\n",
      "virginica        0           1         39 \n",
      "\n",
      "              precision    recall  f1-score   support\n",
      "\n",
      "      setosa       1.00      1.00      1.00        40\n",
      "  versicolor       0.91      0.97      0.94        40\n",
      "   virginica       0.97      0.90      0.94        40\n",
      "\n",
      "    accuracy                           0.96       120\n",
      "   macro avg       0.96      0.96      0.96       120\n",
      "weighted avg       0.96      0.96      0.96       120\n",
      "\n"
     ]
    }
   ],
   "source": [
    "cv_pred = cross_val_predict(knn_mod, x_train, y_train, cv=cv)\n",
    "cm_knn_mod = confusion_matrix(y_train, cv_pred, labels=[\"setosa\", \"virginica\", \"versicolor\"])\n",
    "cm_knn_mod_df = pd.DataFrame(cm_knn_mod, index=[\"setosa\", \"versicolor\", \"virginica\"], columns=[\"setosa\", \"versicolor\", \"virginica\"])\n",
    "\n",
    "cr_knn_mod = classification_report(y_train, cv_pred)\n",
    "\n",
    "print(cm_knn_mod_df,'\\n')\n",
    "print(cr_knn_mod)"
   ]
  },
  {
   "cell_type": "markdown",
   "id": "57055a77",
   "metadata": {},
   "source": [
    "# Logistic Regression"
   ]
  },
  {
   "cell_type": "markdown",
   "id": "a098aa9f",
   "metadata": {},
   "source": [
    "### LR Model 1\n",
    "Control"
   ]
  },
  {
   "cell_type": "code",
   "execution_count": 11,
   "id": "fbe69941",
   "metadata": {},
   "outputs": [
    {
     "name": "stdout",
     "output_type": "stream",
     "text": [
      "Shape of x: (150, 4)\n",
      "Shape of y: (150,)\n"
     ]
    },
    {
     "data": {
      "text/html": [
       "<div>\n",
       "<style scoped>\n",
       "    .dataframe tbody tr th:only-of-type {\n",
       "        vertical-align: middle;\n",
       "    }\n",
       "\n",
       "    .dataframe tbody tr th {\n",
       "        vertical-align: top;\n",
       "    }\n",
       "\n",
       "    .dataframe thead th {\n",
       "        text-align: right;\n",
       "    }\n",
       "</style>\n",
       "<table border=\"1\" class=\"dataframe\">\n",
       "  <thead>\n",
       "    <tr style=\"text-align: right;\">\n",
       "      <th></th>\n",
       "      <th>sepal_length</th>\n",
       "      <th>sepal_width</th>\n",
       "      <th>petal_length</th>\n",
       "      <th>petal_width</th>\n",
       "      <th>species</th>\n",
       "    </tr>\n",
       "  </thead>\n",
       "  <tbody>\n",
       "    <tr>\n",
       "      <th>14</th>\n",
       "      <td>4.8</td>\n",
       "      <td>3.1</td>\n",
       "      <td>1.6</td>\n",
       "      <td>0.2</td>\n",
       "      <td>setosa</td>\n",
       "    </tr>\n",
       "    <tr>\n",
       "      <th>98</th>\n",
       "      <td>6.5</td>\n",
       "      <td>3.0</td>\n",
       "      <td>5.2</td>\n",
       "      <td>2.0</td>\n",
       "      <td>virginica</td>\n",
       "    </tr>\n",
       "    <tr>\n",
       "      <th>75</th>\n",
       "      <td>7.0</td>\n",
       "      <td>3.2</td>\n",
       "      <td>4.7</td>\n",
       "      <td>1.4</td>\n",
       "      <td>versicolor</td>\n",
       "    </tr>\n",
       "    <tr>\n",
       "      <th>16</th>\n",
       "      <td>6.9</td>\n",
       "      <td>3.1</td>\n",
       "      <td>5.1</td>\n",
       "      <td>2.3</td>\n",
       "      <td>virginica</td>\n",
       "    </tr>\n",
       "    <tr>\n",
       "      <th>131</th>\n",
       "      <td>6.5</td>\n",
       "      <td>2.8</td>\n",
       "      <td>4.6</td>\n",
       "      <td>1.5</td>\n",
       "      <td>versicolor</td>\n",
       "    </tr>\n",
       "  </tbody>\n",
       "</table>\n",
       "</div>"
      ],
      "text/plain": [
       "     sepal_length  sepal_width  petal_length  petal_width     species\n",
       "14            4.8          3.1           1.6          0.2      setosa\n",
       "98            6.5          3.0           5.2          2.0   virginica\n",
       "75            7.0          3.2           4.7          1.4  versicolor\n",
       "16            6.9          3.1           5.1          2.3   virginica\n",
       "131           6.5          2.8           4.6          1.5  versicolor"
      ]
     },
     "execution_count": 11,
     "metadata": {},
     "output_type": "execute_result"
    }
   ],
   "source": [
    "print(\"Shape of x:\", x_DF1.shape)\n",
    "print(\"Shape of y:\", y_DF1.shape)\n",
    "iris_DF1.head(5)"
   ]
  },
  {
   "cell_type": "code",
   "execution_count": 12,
   "id": "fdc9d496",
   "metadata": {
    "scrolled": true
   },
   "outputs": [
    {
     "data": {
      "text/html": [
       "<style>#sk-container-id-1 {color: black;}#sk-container-id-1 pre{padding: 0;}#sk-container-id-1 div.sk-toggleable {background-color: white;}#sk-container-id-1 label.sk-toggleable__label {cursor: pointer;display: block;width: 100%;margin-bottom: 0;padding: 0.3em;box-sizing: border-box;text-align: center;}#sk-container-id-1 label.sk-toggleable__label-arrow:before {content: \"▸\";float: left;margin-right: 0.25em;color: #696969;}#sk-container-id-1 label.sk-toggleable__label-arrow:hover:before {color: black;}#sk-container-id-1 div.sk-estimator:hover label.sk-toggleable__label-arrow:before {color: black;}#sk-container-id-1 div.sk-toggleable__content {max-height: 0;max-width: 0;overflow: hidden;text-align: left;background-color: #f0f8ff;}#sk-container-id-1 div.sk-toggleable__content pre {margin: 0.2em;color: black;border-radius: 0.25em;background-color: #f0f8ff;}#sk-container-id-1 input.sk-toggleable__control:checked~div.sk-toggleable__content {max-height: 200px;max-width: 100%;overflow: auto;}#sk-container-id-1 input.sk-toggleable__control:checked~label.sk-toggleable__label-arrow:before {content: \"▾\";}#sk-container-id-1 div.sk-estimator input.sk-toggleable__control:checked~label.sk-toggleable__label {background-color: #d4ebff;}#sk-container-id-1 div.sk-label input.sk-toggleable__control:checked~label.sk-toggleable__label {background-color: #d4ebff;}#sk-container-id-1 input.sk-hidden--visually {border: 0;clip: rect(1px 1px 1px 1px);clip: rect(1px, 1px, 1px, 1px);height: 1px;margin: -1px;overflow: hidden;padding: 0;position: absolute;width: 1px;}#sk-container-id-1 div.sk-estimator {font-family: monospace;background-color: #f0f8ff;border: 1px dotted black;border-radius: 0.25em;box-sizing: border-box;margin-bottom: 0.5em;}#sk-container-id-1 div.sk-estimator:hover {background-color: #d4ebff;}#sk-container-id-1 div.sk-parallel-item::after {content: \"\";width: 100%;border-bottom: 1px solid gray;flex-grow: 1;}#sk-container-id-1 div.sk-label:hover label.sk-toggleable__label {background-color: #d4ebff;}#sk-container-id-1 div.sk-serial::before {content: \"\";position: absolute;border-left: 1px solid gray;box-sizing: border-box;top: 0;bottom: 0;left: 50%;z-index: 0;}#sk-container-id-1 div.sk-serial {display: flex;flex-direction: column;align-items: center;background-color: white;padding-right: 0.2em;padding-left: 0.2em;position: relative;}#sk-container-id-1 div.sk-item {position: relative;z-index: 1;}#sk-container-id-1 div.sk-parallel {display: flex;align-items: stretch;justify-content: center;background-color: white;position: relative;}#sk-container-id-1 div.sk-item::before, #sk-container-id-1 div.sk-parallel-item::before {content: \"\";position: absolute;border-left: 1px solid gray;box-sizing: border-box;top: 0;bottom: 0;left: 50%;z-index: -1;}#sk-container-id-1 div.sk-parallel-item {display: flex;flex-direction: column;z-index: 1;position: relative;background-color: white;}#sk-container-id-1 div.sk-parallel-item:first-child::after {align-self: flex-end;width: 50%;}#sk-container-id-1 div.sk-parallel-item:last-child::after {align-self: flex-start;width: 50%;}#sk-container-id-1 div.sk-parallel-item:only-child::after {width: 0;}#sk-container-id-1 div.sk-dashed-wrapped {border: 1px dashed gray;margin: 0 0.4em 0.5em 0.4em;box-sizing: border-box;padding-bottom: 0.4em;background-color: white;}#sk-container-id-1 div.sk-label label {font-family: monospace;font-weight: bold;display: inline-block;line-height: 1.2em;}#sk-container-id-1 div.sk-label-container {text-align: center;}#sk-container-id-1 div.sk-container {/* jupyter's `normalize.less` sets `[hidden] { display: none; }` but bootstrap.min.css set `[hidden] { display: none !important; }` so we also need the `!important` here to be able to override the default hidden behavior on the sphinx rendered scikit-learn.org. See: https://github.com/scikit-learn/scikit-learn/issues/21755 */display: inline-block !important;position: relative;}#sk-container-id-1 div.sk-text-repr-fallback {display: none;}</style><div id=\"sk-container-id-1\" class=\"sk-top-container\"><div class=\"sk-text-repr-fallback\"><pre>LogisticRegression(max_iter=5000, penalty=None, random_state=1)</pre><b>In a Jupyter environment, please rerun this cell to show the HTML representation or trust the notebook. <br />On GitHub, the HTML representation is unable to render, please try loading this page with nbviewer.org.</b></div><div class=\"sk-container\" hidden><div class=\"sk-item\"><div class=\"sk-estimator sk-toggleable\"><input class=\"sk-toggleable__control sk-hidden--visually\" id=\"sk-estimator-id-1\" type=\"checkbox\" checked><label for=\"sk-estimator-id-1\" class=\"sk-toggleable__label sk-toggleable__label-arrow\">LogisticRegression</label><div class=\"sk-toggleable__content\"><pre>LogisticRegression(max_iter=5000, penalty=None, random_state=1)</pre></div></div></div></div></div>"
      ],
      "text/plain": [
       "LogisticRegression(max_iter=5000, penalty=None, random_state=1)"
      ]
     },
     "execution_count": 12,
     "metadata": {},
     "output_type": "execute_result"
    }
   ],
   "source": [
    "x_train, y_train, _, _ = preprocessing(x_DF1, y_DF1)\n",
    "log_mod1 = LogisticRegression(penalty=None, max_iter=5000, random_state=1)\n",
    "log_mod1.fit(x_train, y_train)"
   ]
  },
  {
   "cell_type": "code",
   "execution_count": 13,
   "id": "29438d93",
   "metadata": {
    "scrolled": true
   },
   "outputs": [
    {
     "name": "stdout",
     "output_type": "stream",
     "text": [
      "Control_CVS:  96.67%\n"
     ]
    }
   ],
   "source": [
    "log_mod1_scores = cross_val_score(log_mod1, x_train, y_train, cv=cv).mean().round(4)\n",
    "print(f'Control_CVS:  {log_mod1_scores*100}%')"
   ]
  },
  {
   "cell_type": "code",
   "execution_count": 14,
   "id": "dc7c9c55",
   "metadata": {},
   "outputs": [
    {
     "name": "stdout",
     "output_type": "stream",
     "text": [
      "            setosa  versicolor  virginica\n",
      "setosa          40           0          0\n",
      "versicolor       0          39          1\n",
      "virginica        0           3         37 \n",
      "\n",
      "              precision    recall  f1-score   support\n",
      "\n",
      "      setosa       1.00      1.00      1.00        40\n",
      "  versicolor       0.93      0.97      0.95        40\n",
      "   virginica       0.97      0.93      0.95        40\n",
      "\n",
      "    accuracy                           0.97       120\n",
      "   macro avg       0.97      0.97      0.97       120\n",
      "weighted avg       0.97      0.97      0.97       120\n",
      "\n"
     ]
    }
   ],
   "source": [
    "cv_pred = cross_val_predict(log_mod1, x_train, y_train, cv=cv)\n",
    "cm_log_mod1 = confusion_matrix(y_train, cv_pred)\n",
    "cm_log_mod1_df = pd.DataFrame(cm_log_mod1, index=[\"setosa\", \"versicolor\", \"virginica\"], columns=[\"setosa\", \"versicolor\", \"virginica\"])\n",
    "\n",
    "cr_log_mod1 = classification_report(y_train, cv_pred)\n",
    "\n",
    "print(cm_log_mod1_df,'\\n')\n",
    "print(cr_log_mod1)"
   ]
  },
  {
   "cell_type": "markdown",
   "id": "b1e1d636",
   "metadata": {},
   "source": [
    "### LR Model 2\n",
    "\n",
    "Removed sepal_length"
   ]
  },
  {
   "cell_type": "code",
   "execution_count": 15,
   "id": "1230a745",
   "metadata": {
    "scrolled": false
   },
   "outputs": [
    {
     "name": "stdout",
     "output_type": "stream",
     "text": [
      "Shape of x: (150, 3)\n",
      "Shape of y: (150,)\n"
     ]
    },
    {
     "data": {
      "text/html": [
       "<div>\n",
       "<style scoped>\n",
       "    .dataframe tbody tr th:only-of-type {\n",
       "        vertical-align: middle;\n",
       "    }\n",
       "\n",
       "    .dataframe tbody tr th {\n",
       "        vertical-align: top;\n",
       "    }\n",
       "\n",
       "    .dataframe thead th {\n",
       "        text-align: right;\n",
       "    }\n",
       "</style>\n",
       "<table border=\"1\" class=\"dataframe\">\n",
       "  <thead>\n",
       "    <tr style=\"text-align: right;\">\n",
       "      <th></th>\n",
       "      <th>sepal_width</th>\n",
       "      <th>petal_width</th>\n",
       "      <th>petal_length</th>\n",
       "      <th>species</th>\n",
       "    </tr>\n",
       "  </thead>\n",
       "  <tbody>\n",
       "    <tr>\n",
       "      <th>78</th>\n",
       "      <td>3.0</td>\n",
       "      <td>2.1</td>\n",
       "      <td>6.6</td>\n",
       "      <td>virginica</td>\n",
       "    </tr>\n",
       "    <tr>\n",
       "      <th>109</th>\n",
       "      <td>2.3</td>\n",
       "      <td>1.3</td>\n",
       "      <td>4.0</td>\n",
       "      <td>versicolor</td>\n",
       "    </tr>\n",
       "    <tr>\n",
       "      <th>74</th>\n",
       "      <td>4.4</td>\n",
       "      <td>0.4</td>\n",
       "      <td>1.5</td>\n",
       "      <td>setosa</td>\n",
       "    </tr>\n",
       "    <tr>\n",
       "      <th>92</th>\n",
       "      <td>2.8</td>\n",
       "      <td>1.9</td>\n",
       "      <td>6.1</td>\n",
       "      <td>virginica</td>\n",
       "    </tr>\n",
       "    <tr>\n",
       "      <th>61</th>\n",
       "      <td>3.8</td>\n",
       "      <td>0.3</td>\n",
       "      <td>1.5</td>\n",
       "      <td>setosa</td>\n",
       "    </tr>\n",
       "  </tbody>\n",
       "</table>\n",
       "</div>"
      ],
      "text/plain": [
       "     sepal_width  petal_width  petal_length     species\n",
       "78           3.0          2.1           6.6   virginica\n",
       "109          2.3          1.3           4.0  versicolor\n",
       "74           4.4          0.4           1.5      setosa\n",
       "92           2.8          1.9           6.1   virginica\n",
       "61           3.8          0.3           1.5      setosa"
      ]
     },
     "execution_count": 15,
     "metadata": {},
     "output_type": "execute_result"
    }
   ],
   "source": [
    "print(\"Shape of x:\", x_DF2.shape)\n",
    "print(\"Shape of y:\", y_DF2.shape)\n",
    "iris_DF2.head(5)"
   ]
  },
  {
   "cell_type": "code",
   "execution_count": 16,
   "id": "db8a6d28",
   "metadata": {},
   "outputs": [
    {
     "data": {
      "text/html": [
       "<style>#sk-container-id-2 {color: black;}#sk-container-id-2 pre{padding: 0;}#sk-container-id-2 div.sk-toggleable {background-color: white;}#sk-container-id-2 label.sk-toggleable__label {cursor: pointer;display: block;width: 100%;margin-bottom: 0;padding: 0.3em;box-sizing: border-box;text-align: center;}#sk-container-id-2 label.sk-toggleable__label-arrow:before {content: \"▸\";float: left;margin-right: 0.25em;color: #696969;}#sk-container-id-2 label.sk-toggleable__label-arrow:hover:before {color: black;}#sk-container-id-2 div.sk-estimator:hover label.sk-toggleable__label-arrow:before {color: black;}#sk-container-id-2 div.sk-toggleable__content {max-height: 0;max-width: 0;overflow: hidden;text-align: left;background-color: #f0f8ff;}#sk-container-id-2 div.sk-toggleable__content pre {margin: 0.2em;color: black;border-radius: 0.25em;background-color: #f0f8ff;}#sk-container-id-2 input.sk-toggleable__control:checked~div.sk-toggleable__content {max-height: 200px;max-width: 100%;overflow: auto;}#sk-container-id-2 input.sk-toggleable__control:checked~label.sk-toggleable__label-arrow:before {content: \"▾\";}#sk-container-id-2 div.sk-estimator input.sk-toggleable__control:checked~label.sk-toggleable__label {background-color: #d4ebff;}#sk-container-id-2 div.sk-label input.sk-toggleable__control:checked~label.sk-toggleable__label {background-color: #d4ebff;}#sk-container-id-2 input.sk-hidden--visually {border: 0;clip: rect(1px 1px 1px 1px);clip: rect(1px, 1px, 1px, 1px);height: 1px;margin: -1px;overflow: hidden;padding: 0;position: absolute;width: 1px;}#sk-container-id-2 div.sk-estimator {font-family: monospace;background-color: #f0f8ff;border: 1px dotted black;border-radius: 0.25em;box-sizing: border-box;margin-bottom: 0.5em;}#sk-container-id-2 div.sk-estimator:hover {background-color: #d4ebff;}#sk-container-id-2 div.sk-parallel-item::after {content: \"\";width: 100%;border-bottom: 1px solid gray;flex-grow: 1;}#sk-container-id-2 div.sk-label:hover label.sk-toggleable__label {background-color: #d4ebff;}#sk-container-id-2 div.sk-serial::before {content: \"\";position: absolute;border-left: 1px solid gray;box-sizing: border-box;top: 0;bottom: 0;left: 50%;z-index: 0;}#sk-container-id-2 div.sk-serial {display: flex;flex-direction: column;align-items: center;background-color: white;padding-right: 0.2em;padding-left: 0.2em;position: relative;}#sk-container-id-2 div.sk-item {position: relative;z-index: 1;}#sk-container-id-2 div.sk-parallel {display: flex;align-items: stretch;justify-content: center;background-color: white;position: relative;}#sk-container-id-2 div.sk-item::before, #sk-container-id-2 div.sk-parallel-item::before {content: \"\";position: absolute;border-left: 1px solid gray;box-sizing: border-box;top: 0;bottom: 0;left: 50%;z-index: -1;}#sk-container-id-2 div.sk-parallel-item {display: flex;flex-direction: column;z-index: 1;position: relative;background-color: white;}#sk-container-id-2 div.sk-parallel-item:first-child::after {align-self: flex-end;width: 50%;}#sk-container-id-2 div.sk-parallel-item:last-child::after {align-self: flex-start;width: 50%;}#sk-container-id-2 div.sk-parallel-item:only-child::after {width: 0;}#sk-container-id-2 div.sk-dashed-wrapped {border: 1px dashed gray;margin: 0 0.4em 0.5em 0.4em;box-sizing: border-box;padding-bottom: 0.4em;background-color: white;}#sk-container-id-2 div.sk-label label {font-family: monospace;font-weight: bold;display: inline-block;line-height: 1.2em;}#sk-container-id-2 div.sk-label-container {text-align: center;}#sk-container-id-2 div.sk-container {/* jupyter's `normalize.less` sets `[hidden] { display: none; }` but bootstrap.min.css set `[hidden] { display: none !important; }` so we also need the `!important` here to be able to override the default hidden behavior on the sphinx rendered scikit-learn.org. See: https://github.com/scikit-learn/scikit-learn/issues/21755 */display: inline-block !important;position: relative;}#sk-container-id-2 div.sk-text-repr-fallback {display: none;}</style><div id=\"sk-container-id-2\" class=\"sk-top-container\"><div class=\"sk-text-repr-fallback\"><pre>LogisticRegression(max_iter=5000, penalty=None, random_state=1)</pre><b>In a Jupyter environment, please rerun this cell to show the HTML representation or trust the notebook. <br />On GitHub, the HTML representation is unable to render, please try loading this page with nbviewer.org.</b></div><div class=\"sk-container\" hidden><div class=\"sk-item\"><div class=\"sk-estimator sk-toggleable\"><input class=\"sk-toggleable__control sk-hidden--visually\" id=\"sk-estimator-id-2\" type=\"checkbox\" checked><label for=\"sk-estimator-id-2\" class=\"sk-toggleable__label sk-toggleable__label-arrow\">LogisticRegression</label><div class=\"sk-toggleable__content\"><pre>LogisticRegression(max_iter=5000, penalty=None, random_state=1)</pre></div></div></div></div></div>"
      ],
      "text/plain": [
       "LogisticRegression(max_iter=5000, penalty=None, random_state=1)"
      ]
     },
     "execution_count": 16,
     "metadata": {},
     "output_type": "execute_result"
    }
   ],
   "source": [
    "x_train, y_train, _, _ = preprocessing(x_DF2, y_DF2)\n",
    "log_mod2 = LogisticRegression(penalty=None, max_iter=5000, random_state=1)\n",
    "log_mod2.fit(x_train, y_train)"
   ]
  },
  {
   "cell_type": "code",
   "execution_count": 17,
   "id": "03e237fc",
   "metadata": {
    "scrolled": true
   },
   "outputs": [
    {
     "name": "stdout",
     "output_type": "stream",
     "text": [
      "sepal_length_CVS:  96.67\n"
     ]
    }
   ],
   "source": [
    "log_mod2_scores = cross_val_score(log_mod2, x_train, y_train, cv=cv).mean().round(4)\n",
    "print(f'sepal_length_CVS:  {log_mod2_scores*100}')"
   ]
  },
  {
   "cell_type": "code",
   "execution_count": 18,
   "id": "e8f73bea",
   "metadata": {},
   "outputs": [
    {
     "name": "stdout",
     "output_type": "stream",
     "text": [
      "            setosa  versicolor  virginica\n",
      "setosa          40           0          0\n",
      "versicolor       0          39          1\n",
      "virginica        0           3         37 \n",
      "\n",
      "              precision    recall  f1-score   support\n",
      "\n",
      "      setosa       1.00      1.00      1.00        40\n",
      "  versicolor       0.93      0.97      0.95        40\n",
      "   virginica       0.97      0.93      0.95        40\n",
      "\n",
      "    accuracy                           0.97       120\n",
      "   macro avg       0.97      0.97      0.97       120\n",
      "weighted avg       0.97      0.97      0.97       120\n",
      "\n"
     ]
    }
   ],
   "source": [
    "cv_pred = cross_val_predict(log_mod2, x_train, y_train, cv=cv)\n",
    "cm_log_mod2 = confusion_matrix(y_train, cv_pred)\n",
    "cm_log_mod2_df = pd.DataFrame(cm_log_mod2, index=[\"setosa\", \"versicolor\", \"virginica\"], columns=[\"setosa\", \"versicolor\", \"virginica\"])\n",
    "\n",
    "cr_log_mod2 = classification_report(y_train, cv_pred)\n",
    "\n",
    "print(cm_log_mod2_df,'\\n')\n",
    "print(cr_log_mod2)"
   ]
  },
  {
   "cell_type": "markdown",
   "id": "8318a42c",
   "metadata": {},
   "source": [
    "### LR Model 3\n",
    "Take the log of each feature minus sepal_length"
   ]
  },
  {
   "cell_type": "code",
   "execution_count": 19,
   "id": "5d8764cf",
   "metadata": {},
   "outputs": [
    {
     "name": "stdout",
     "output_type": "stream",
     "text": [
      "Shape of x: (150, 3)\n",
      "Shape of y: (150,)\n"
     ]
    },
    {
     "data": {
      "text/html": [
       "<div>\n",
       "<style scoped>\n",
       "    .dataframe tbody tr th:only-of-type {\n",
       "        vertical-align: middle;\n",
       "    }\n",
       "\n",
       "    .dataframe tbody tr th {\n",
       "        vertical-align: top;\n",
       "    }\n",
       "\n",
       "    .dataframe thead th {\n",
       "        text-align: right;\n",
       "    }\n",
       "</style>\n",
       "<table border=\"1\" class=\"dataframe\">\n",
       "  <thead>\n",
       "    <tr style=\"text-align: right;\">\n",
       "      <th></th>\n",
       "      <th>log_sepal_width</th>\n",
       "      <th>log_petal_length</th>\n",
       "      <th>log_petal_width</th>\n",
       "      <th>species</th>\n",
       "    </tr>\n",
       "  </thead>\n",
       "  <tbody>\n",
       "    <tr>\n",
       "      <th>14</th>\n",
       "      <td>1.1314</td>\n",
       "      <td>0.4700</td>\n",
       "      <td>-1.6094</td>\n",
       "      <td>setosa</td>\n",
       "    </tr>\n",
       "    <tr>\n",
       "      <th>98</th>\n",
       "      <td>1.0986</td>\n",
       "      <td>1.6487</td>\n",
       "      <td>0.6931</td>\n",
       "      <td>virginica</td>\n",
       "    </tr>\n",
       "    <tr>\n",
       "      <th>75</th>\n",
       "      <td>1.1632</td>\n",
       "      <td>1.5476</td>\n",
       "      <td>0.3365</td>\n",
       "      <td>versicolor</td>\n",
       "    </tr>\n",
       "    <tr>\n",
       "      <th>16</th>\n",
       "      <td>1.1314</td>\n",
       "      <td>1.6292</td>\n",
       "      <td>0.8329</td>\n",
       "      <td>virginica</td>\n",
       "    </tr>\n",
       "    <tr>\n",
       "      <th>131</th>\n",
       "      <td>1.0296</td>\n",
       "      <td>1.5261</td>\n",
       "      <td>0.4055</td>\n",
       "      <td>versicolor</td>\n",
       "    </tr>\n",
       "  </tbody>\n",
       "</table>\n",
       "</div>"
      ],
      "text/plain": [
       "     log_sepal_width  log_petal_length  log_petal_width     species\n",
       "14            1.1314            0.4700          -1.6094      setosa\n",
       "98            1.0986            1.6487           0.6931   virginica\n",
       "75            1.1632            1.5476           0.3365  versicolor\n",
       "16            1.1314            1.6292           0.8329   virginica\n",
       "131           1.0296            1.5261           0.4055  versicolor"
      ]
     },
     "execution_count": 19,
     "metadata": {},
     "output_type": "execute_result"
    }
   ],
   "source": [
    "print(\"Shape of x:\", x_DF3.shape)\n",
    "print(\"Shape of y:\", y_DF3.shape)\n",
    "iris_DF3.head(5)"
   ]
  },
  {
   "cell_type": "code",
   "execution_count": 20,
   "id": "3830d374",
   "metadata": {},
   "outputs": [
    {
     "data": {
      "text/html": [
       "<style>#sk-container-id-3 {color: black;}#sk-container-id-3 pre{padding: 0;}#sk-container-id-3 div.sk-toggleable {background-color: white;}#sk-container-id-3 label.sk-toggleable__label {cursor: pointer;display: block;width: 100%;margin-bottom: 0;padding: 0.3em;box-sizing: border-box;text-align: center;}#sk-container-id-3 label.sk-toggleable__label-arrow:before {content: \"▸\";float: left;margin-right: 0.25em;color: #696969;}#sk-container-id-3 label.sk-toggleable__label-arrow:hover:before {color: black;}#sk-container-id-3 div.sk-estimator:hover label.sk-toggleable__label-arrow:before {color: black;}#sk-container-id-3 div.sk-toggleable__content {max-height: 0;max-width: 0;overflow: hidden;text-align: left;background-color: #f0f8ff;}#sk-container-id-3 div.sk-toggleable__content pre {margin: 0.2em;color: black;border-radius: 0.25em;background-color: #f0f8ff;}#sk-container-id-3 input.sk-toggleable__control:checked~div.sk-toggleable__content {max-height: 200px;max-width: 100%;overflow: auto;}#sk-container-id-3 input.sk-toggleable__control:checked~label.sk-toggleable__label-arrow:before {content: \"▾\";}#sk-container-id-3 div.sk-estimator input.sk-toggleable__control:checked~label.sk-toggleable__label {background-color: #d4ebff;}#sk-container-id-3 div.sk-label input.sk-toggleable__control:checked~label.sk-toggleable__label {background-color: #d4ebff;}#sk-container-id-3 input.sk-hidden--visually {border: 0;clip: rect(1px 1px 1px 1px);clip: rect(1px, 1px, 1px, 1px);height: 1px;margin: -1px;overflow: hidden;padding: 0;position: absolute;width: 1px;}#sk-container-id-3 div.sk-estimator {font-family: monospace;background-color: #f0f8ff;border: 1px dotted black;border-radius: 0.25em;box-sizing: border-box;margin-bottom: 0.5em;}#sk-container-id-3 div.sk-estimator:hover {background-color: #d4ebff;}#sk-container-id-3 div.sk-parallel-item::after {content: \"\";width: 100%;border-bottom: 1px solid gray;flex-grow: 1;}#sk-container-id-3 div.sk-label:hover label.sk-toggleable__label {background-color: #d4ebff;}#sk-container-id-3 div.sk-serial::before {content: \"\";position: absolute;border-left: 1px solid gray;box-sizing: border-box;top: 0;bottom: 0;left: 50%;z-index: 0;}#sk-container-id-3 div.sk-serial {display: flex;flex-direction: column;align-items: center;background-color: white;padding-right: 0.2em;padding-left: 0.2em;position: relative;}#sk-container-id-3 div.sk-item {position: relative;z-index: 1;}#sk-container-id-3 div.sk-parallel {display: flex;align-items: stretch;justify-content: center;background-color: white;position: relative;}#sk-container-id-3 div.sk-item::before, #sk-container-id-3 div.sk-parallel-item::before {content: \"\";position: absolute;border-left: 1px solid gray;box-sizing: border-box;top: 0;bottom: 0;left: 50%;z-index: -1;}#sk-container-id-3 div.sk-parallel-item {display: flex;flex-direction: column;z-index: 1;position: relative;background-color: white;}#sk-container-id-3 div.sk-parallel-item:first-child::after {align-self: flex-end;width: 50%;}#sk-container-id-3 div.sk-parallel-item:last-child::after {align-self: flex-start;width: 50%;}#sk-container-id-3 div.sk-parallel-item:only-child::after {width: 0;}#sk-container-id-3 div.sk-dashed-wrapped {border: 1px dashed gray;margin: 0 0.4em 0.5em 0.4em;box-sizing: border-box;padding-bottom: 0.4em;background-color: white;}#sk-container-id-3 div.sk-label label {font-family: monospace;font-weight: bold;display: inline-block;line-height: 1.2em;}#sk-container-id-3 div.sk-label-container {text-align: center;}#sk-container-id-3 div.sk-container {/* jupyter's `normalize.less` sets `[hidden] { display: none; }` but bootstrap.min.css set `[hidden] { display: none !important; }` so we also need the `!important` here to be able to override the default hidden behavior on the sphinx rendered scikit-learn.org. See: https://github.com/scikit-learn/scikit-learn/issues/21755 */display: inline-block !important;position: relative;}#sk-container-id-3 div.sk-text-repr-fallback {display: none;}</style><div id=\"sk-container-id-3\" class=\"sk-top-container\"><div class=\"sk-text-repr-fallback\"><pre>LogisticRegression(max_iter=5000, penalty=None, random_state=1)</pre><b>In a Jupyter environment, please rerun this cell to show the HTML representation or trust the notebook. <br />On GitHub, the HTML representation is unable to render, please try loading this page with nbviewer.org.</b></div><div class=\"sk-container\" hidden><div class=\"sk-item\"><div class=\"sk-estimator sk-toggleable\"><input class=\"sk-toggleable__control sk-hidden--visually\" id=\"sk-estimator-id-3\" type=\"checkbox\" checked><label for=\"sk-estimator-id-3\" class=\"sk-toggleable__label sk-toggleable__label-arrow\">LogisticRegression</label><div class=\"sk-toggleable__content\"><pre>LogisticRegression(max_iter=5000, penalty=None, random_state=1)</pre></div></div></div></div></div>"
      ],
      "text/plain": [
       "LogisticRegression(max_iter=5000, penalty=None, random_state=1)"
      ]
     },
     "execution_count": 20,
     "metadata": {},
     "output_type": "execute_result"
    }
   ],
   "source": [
    "x_train, y_train, _, _ = preprocessing(x_DF3, y_DF3)\n",
    "log_mod3 = LogisticRegression(penalty=None, max_iter=5000, random_state=1)\n",
    "log_mod3.fit(x_train, y_train)"
   ]
  },
  {
   "cell_type": "code",
   "execution_count": 21,
   "id": "36195de4",
   "metadata": {
    "scrolled": true
   },
   "outputs": [
    {
     "name": "stdout",
     "output_type": "stream",
     "text": [
      "log-sepal_length_CVS:  96.67%\n"
     ]
    }
   ],
   "source": [
    "log_mod3_scores = cross_val_score(log_mod3, x_train, y_train, cv=cv).mean().round(4)\n",
    "print(f'log-sepal_length_CVS:  {log_mod3_scores*100}%')"
   ]
  },
  {
   "cell_type": "code",
   "execution_count": 22,
   "id": "6bb96394",
   "metadata": {},
   "outputs": [
    {
     "name": "stdout",
     "output_type": "stream",
     "text": [
      "            setosa  versicolor  virginica\n",
      "setosa          40           0          0\n",
      "versicolor       0          37          3\n",
      "virginica        0           1         39 \n",
      "\n",
      "              precision    recall  f1-score   support\n",
      "\n",
      "      setosa       1.00      1.00      1.00        40\n",
      "  versicolor       0.93      0.97      0.95        40\n",
      "   virginica       0.97      0.93      0.95        40\n",
      "\n",
      "    accuracy                           0.97       120\n",
      "   macro avg       0.97      0.97      0.97       120\n",
      "weighted avg       0.97      0.97      0.97       120\n",
      "\n"
     ]
    }
   ],
   "source": [
    "cv_pred = cross_val_predict(log_mod3, x_train, y_train, cv=cv)\n",
    "cm_log_mod3 = confusion_matrix(y_train, cv_pred, labels=[\"setosa\", \"virginica\", \"versicolor\"])\n",
    "cm_log_mod3_df = pd.DataFrame(cm_log_mod3, index=[\"setosa\", \"versicolor\", \"virginica\"], columns=[\"setosa\", \"versicolor\", \"virginica\"])\n",
    "\n",
    "cr_log_mod3 = classification_report(y_train, cv_pred)\n",
    "\n",
    "print(cm_log_mod3_df,'\\n')\n",
    "print(cr_log_mod3)"
   ]
  },
  {
   "cell_type": "markdown",
   "id": "f2f7bb31",
   "metadata": {},
   "source": [
    "# Decision Trees"
   ]
  },
  {
   "cell_type": "code",
   "execution_count": 34,
   "id": "a0d562a8",
   "metadata": {},
   "outputs": [],
   "source": [
    "dt_parameters = {\n",
    "    'max_depth': [1, 2, 3, 4, 5, 6, 7, 8],\n",
    "    'min_samples_leaf': [1, 2, 3, 4]\n",
    "}"
   ]
  },
  {
   "cell_type": "markdown",
   "id": "cbdd1b81",
   "metadata": {},
   "source": [
    "### DT Model 1"
   ]
  },
  {
   "cell_type": "code",
   "execution_count": 35,
   "id": "13790989",
   "metadata": {},
   "outputs": [],
   "source": [
    "x_train, y_train, _, _ = preprocessing(x_DF1, y_DF1)"
   ]
  },
  {
   "cell_type": "code",
   "execution_count": 36,
   "id": "18d9e7a3",
   "metadata": {
    "scrolled": true
   },
   "outputs": [
    {
     "name": "stdout",
     "output_type": "stream",
     "text": [
      "Best Parameters: {'max_depth': 3, 'min_samples_leaf': 1}\n",
      "Best CV Score:   95.0%\n"
     ]
    }
   ],
   "source": [
    "dt_clf1 = DecisionTreeClassifier(random_state=1)\n",
    "\n",
    "dt_grid1 = GridSearchCV(dt_clf1, dt_parameters, cv=cv, refit='True', n_jobs=-1)\n",
    "dt_grid1.fit(x_train, y_train)\n",
    "\n",
    "dt_mod1 = dt_grid1.best_estimator_\n",
    "\n",
    "print(f'Best Parameters: {dt_grid1.best_params_}')\n",
    "print(f'Best CV Score:   {round(dt_grid1.best_score_*100,2)}%')"
   ]
  },
  {
   "cell_type": "code",
   "execution_count": 37,
   "id": "d500d7ad",
   "metadata": {
    "scrolled": true
   },
   "outputs": [
    {
     "name": "stdout",
     "output_type": "stream",
     "text": [
      "            setosa  versicolor  virginica\n",
      "setosa          40           0          0\n",
      "versicolor       0          38          2\n",
      "virginica        0           4         36 \n",
      "\n",
      "              precision    recall  f1-score   support\n",
      "\n",
      "      setosa       1.00      1.00      1.00        40\n",
      "  versicolor       0.95      0.90      0.92        40\n",
      "   virginica       0.90      0.95      0.93        40\n",
      "\n",
      "    accuracy                           0.95       120\n",
      "   macro avg       0.95      0.95      0.95       120\n",
      "weighted avg       0.95      0.95      0.95       120\n",
      "\n"
     ]
    }
   ],
   "source": [
    "cv_pred = cross_val_predict(dt_mod1, x_train, y_train, cv=cv)\n",
    "cm_dt_mod1 = confusion_matrix(y_train, cv_pred, labels=[\"setosa\", \"virginica\", \"versicolor\"])\n",
    "cm_dt_mod1_df = pd.DataFrame(cm_dt_mod1, index=[\"setosa\", \"versicolor\", \"virginica\"], columns=[\"setosa\", \"versicolor\", \"virginica\"])\n",
    "\n",
    "cm_dt_mod1 = classification_report(y_train, cv_pred)\n",
    "\n",
    "print(cm_dt_mod1_df,'\\n')\n",
    "print(cm_dt_mod1)"
   ]
  },
  {
   "cell_type": "markdown",
   "id": "38a07a5d",
   "metadata": {},
   "source": [
    "### DT Model 2"
   ]
  },
  {
   "cell_type": "code",
   "execution_count": 38,
   "id": "085bf711",
   "metadata": {},
   "outputs": [],
   "source": [
    "x_train, y_train, _, _ = preprocessing(x_DF2, y_DF2)"
   ]
  },
  {
   "cell_type": "code",
   "execution_count": 39,
   "id": "38335654",
   "metadata": {
    "scrolled": true
   },
   "outputs": [
    {
     "name": "stdout",
     "output_type": "stream",
     "text": [
      "Best Parameters: {'max_depth': 3, 'min_samples_leaf': 1}\n",
      "Best CV Score:   95.0%\n"
     ]
    }
   ],
   "source": [
    "dt_clf2 = DecisionTreeClassifier(random_state=1)\n",
    "\n",
    "dt_grid2 = GridSearchCV(dt_clf2, dt_parameters, cv=cv, refit='True', n_jobs=-1)\n",
    "dt_grid2.fit(x_train, y_train)\n",
    "\n",
    "dt_mod2 = dt_grid1.best_estimator_\n",
    "\n",
    "print(f'Best Parameters: {dt_grid2.best_params_}')\n",
    "print(f'Best CV Score:   {round(dt_grid2.best_score_*100,2)}%')"
   ]
  },
  {
   "cell_type": "code",
   "execution_count": 40,
   "id": "330600c3",
   "metadata": {},
   "outputs": [
    {
     "name": "stdout",
     "output_type": "stream",
     "text": [
      "            setosa  versicolor  virginica\n",
      "setosa          40           0          0\n",
      "versicolor       0          38          2\n",
      "virginica        0           4         36 \n",
      "\n",
      "              precision    recall  f1-score   support\n",
      "\n",
      "      setosa       1.00      1.00      1.00        40\n",
      "  versicolor       0.95      0.90      0.92        40\n",
      "   virginica       0.90      0.95      0.93        40\n",
      "\n",
      "    accuracy                           0.95       120\n",
      "   macro avg       0.95      0.95      0.95       120\n",
      "weighted avg       0.95      0.95      0.95       120\n",
      "\n"
     ]
    }
   ],
   "source": [
    "cv_pred = cross_val_predict(dt_mod2, x_train, y_train, cv=cv)\n",
    "cm_dt_mod2 = confusion_matrix(y_train, cv_pred, labels=[\"setosa\", \"virginica\", \"versicolor\"])\n",
    "cm_dt_mod2_df = pd.DataFrame(cm_dt_mod2, index=[\"setosa\", \"versicolor\", \"virginica\"], columns=[\"setosa\", \"versicolor\", \"virginica\"])\n",
    "\n",
    "cm_dt_mod2 = classification_report(y_train, cv_pred)\n",
    "\n",
    "print(cm_dt_mod2_df,'\\n')\n",
    "print(cm_dt_mod2)"
   ]
  },
  {
   "cell_type": "markdown",
   "id": "fbe14ae9",
   "metadata": {},
   "source": [
    "### DT Model 3"
   ]
  },
  {
   "cell_type": "code",
   "execution_count": 41,
   "id": "f245aaa4",
   "metadata": {},
   "outputs": [],
   "source": [
    "x_train, y_train, _, _ = preprocessing(x_DF3, y_DF3)"
   ]
  },
  {
   "cell_type": "code",
   "execution_count": 42,
   "id": "c6ab92c3",
   "metadata": {
    "scrolled": true
   },
   "outputs": [
    {
     "name": "stdout",
     "output_type": "stream",
     "text": [
      "Best Parameters: {'max_depth': 3, 'min_samples_leaf': 1}\n",
      "Best CV Score:   95.0%\n"
     ]
    }
   ],
   "source": [
    "dt_clf3 = DecisionTreeClassifier(random_state=1)\n",
    "\n",
    "dt_grid3 = GridSearchCV(dt_clf3, dt_parameters, cv=cv, refit='True', n_jobs=-1)\n",
    "dt_grid3.fit(x_train, y_train)\n",
    "\n",
    "dt_mod3 = dt_grid1.best_estimator_\n",
    "\n",
    "print(f'Best Parameters: {dt_grid3.best_params_}')\n",
    "print(f'Best CV Score:   {round(dt_grid3.best_score_*100,2)}%')"
   ]
  },
  {
   "cell_type": "code",
   "execution_count": 43,
   "id": "9082ed90",
   "metadata": {},
   "outputs": [
    {
     "name": "stdout",
     "output_type": "stream",
     "text": [
      "            setosa  versicolor  virginica\n",
      "setosa          40           0          0\n",
      "versicolor       0          38          2\n",
      "virginica        0           4         36 \n",
      "\n",
      "              precision    recall  f1-score   support\n",
      "\n",
      "      setosa       1.00      1.00      1.00        40\n",
      "  versicolor       0.95      0.90      0.92        40\n",
      "   virginica       0.90      0.95      0.93        40\n",
      "\n",
      "    accuracy                           0.95       120\n",
      "   macro avg       0.95      0.95      0.95       120\n",
      "weighted avg       0.95      0.95      0.95       120\n",
      "\n"
     ]
    }
   ],
   "source": [
    "cv_pred = cross_val_predict(dt_mod3, x_train, y_train, cv=cv)\n",
    "cm_dt_mod3 = confusion_matrix(y_train, cv_pred, labels=[\"setosa\", \"virginica\", \"versicolor\"])\n",
    "cm_dt_mod3_df = pd.DataFrame(cm_dt_mod3, index=[\"setosa\", \"versicolor\", \"virginica\"], columns=[\"setosa\", \"versicolor\", \"virginica\"])\n",
    "\n",
    "cm_dt_mod3 = classification_report(y_train, cv_pred)\n",
    "\n",
    "print(cm_dt_mod3_df,'\\n')\n",
    "print(cm_dt_mod3)"
   ]
  },
  {
   "cell_type": "markdown",
   "id": "b000f304",
   "metadata": {},
   "source": [
    "### Final DT Model"
   ]
  },
  {
   "cell_type": "code",
   "execution_count": 44,
   "id": "489d42dd",
   "metadata": {
    "scrolled": true
   },
   "outputs": [
    {
     "name": "stdout",
     "output_type": "stream",
     "text": [
      "DT Cross-Validation-Score: 95.0%\n"
     ]
    }
   ],
   "source": [
    "x_train, y_train, _, _ = preprocessing(x_DF3, y_DF3)\n",
    "\n",
    "dt_mod = DecisionTreeClassifier(max_depth=3, min_samples_leaf=1, random_state=1)\n",
    "dt_mod.fit(x_train, y_train)\n",
    "\n",
    "dt_mod_scores = cross_val_score(dt_mod, x_train, y_train, cv=cv).mean().round(4)\n",
    "print(f'DT Cross-Validation-Score: {dt_mod_scores*100}%')"
   ]
  },
  {
   "cell_type": "code",
   "execution_count": 45,
   "id": "5c48c25e",
   "metadata": {},
   "outputs": [
    {
     "name": "stdout",
     "output_type": "stream",
     "text": [
      "            setosa  versicolor  virginica\n",
      "setosa          40           0          0\n",
      "versicolor       0          38          2\n",
      "virginica        0           4         36 \n",
      "\n",
      "              precision    recall  f1-score   support\n",
      "\n",
      "      setosa       1.00      1.00      1.00        40\n",
      "  versicolor       0.95      0.90      0.92        40\n",
      "   virginica       0.90      0.95      0.93        40\n",
      "\n",
      "    accuracy                           0.95       120\n",
      "   macro avg       0.95      0.95      0.95       120\n",
      "weighted avg       0.95      0.95      0.95       120\n",
      "\n"
     ]
    }
   ],
   "source": [
    "cv_pred = cross_val_predict(dt_mod, x_train, y_train, cv=cv)\n",
    "cm_dt_mod = confusion_matrix(y_train, cv_pred, labels=[\"setosa\", \"virginica\", \"versicolor\"])\n",
    "cm_dt_mod_df = pd.DataFrame(cm_dt_mod, index=[\"setosa\", \"versicolor\", \"virginica\"], columns=[\"setosa\", \"versicolor\", \"virginica\"])\n",
    "\n",
    "cm_dt_mod = classification_report(y_train, cv_pred)\n",
    "\n",
    "print(cm_dt_mod_df,'\\n')\n",
    "print(cm_dt_mod)"
   ]
  },
  {
   "cell_type": "markdown",
   "id": "32a0958a",
   "metadata": {},
   "source": [
    "# Random Forests"
   ]
  },
  {
   "cell_type": "code",
   "execution_count": 46,
   "id": "f00a704a",
   "metadata": {},
   "outputs": [],
   "source": [
    "rf_parameters = {\n",
    "    'max_depth': [1, 2, 3, 4, 5, 6, 7, 8],\n",
    "    'min_samples_leaf': [1, 2, 3, 4]\n",
    "}"
   ]
  },
  {
   "cell_type": "markdown",
   "id": "4573a86e",
   "metadata": {},
   "source": [
    "### RF Model 1"
   ]
  },
  {
   "cell_type": "code",
   "execution_count": 47,
   "id": "3b6cf6df",
   "metadata": {},
   "outputs": [],
   "source": [
    "x_train, y_train, _, _ = preprocessing(x_DF1, y_DF1)"
   ]
  },
  {
   "cell_type": "code",
   "execution_count": 48,
   "id": "4c4f7cf5",
   "metadata": {
    "scrolled": false
   },
   "outputs": [
    {
     "name": "stdout",
     "output_type": "stream",
     "text": [
      "Best Parameters: {'max_depth': 3, 'min_samples_leaf': 1}\n",
      "Best CV Score:   95.83%\n"
     ]
    }
   ],
   "source": [
    "rf_clf1 = RandomForestClassifier(n_estimators=100, random_state=1)\n",
    "\n",
    "rf_grid1 = GridSearchCV(rf_clf1, rf_parameters, cv=cv, refit='True', n_jobs=-1)\n",
    "rf_grid1.fit(x_train, y_train)\n",
    "\n",
    "rf_mod1 = rf_grid1.best_estimator_\n",
    "\n",
    "print(f'Best Parameters: {rf_grid1.best_params_}')\n",
    "print(f'Best CV Score:   {round(rf_grid1.best_score_*100,2)}%')"
   ]
  },
  {
   "cell_type": "code",
   "execution_count": 49,
   "id": "38a6e898",
   "metadata": {},
   "outputs": [
    {
     "name": "stdout",
     "output_type": "stream",
     "text": [
      "            setosa  versicolor  virginica\n",
      "setosa          40           0          0\n",
      "versicolor       0          38          2\n",
      "virginica        0           3         37 \n",
      "\n",
      "              precision    recall  f1-score   support\n",
      "\n",
      "      setosa       1.00      1.00      1.00        40\n",
      "  versicolor       0.95      0.93      0.94        40\n",
      "   virginica       0.93      0.95      0.94        40\n",
      "\n",
      "    accuracy                           0.96       120\n",
      "   macro avg       0.96      0.96      0.96       120\n",
      "weighted avg       0.96      0.96      0.96       120\n",
      "\n"
     ]
    }
   ],
   "source": [
    "cv_pred = cross_val_predict(rf_mod1, x_train, y_train, cv=cv)\n",
    "cm_rf_mod1 = confusion_matrix(y_train, cv_pred, labels=[\"setosa\", \"virginica\", \"versicolor\"])\n",
    "cm_rf_mod1_df = pd.DataFrame(cm_rf_mod1, index=[\"setosa\", \"versicolor\", \"virginica\"], columns=[\"setosa\", \"versicolor\", \"virginica\"])\n",
    "\n",
    "cm_rf_mod1 = classification_report(y_train, cv_pred)\n",
    "\n",
    "print(cm_rf_mod1_df,'\\n')\n",
    "print(cm_rf_mod1)"
   ]
  },
  {
   "cell_type": "markdown",
   "id": "05c28cd8",
   "metadata": {},
   "source": [
    "### RF Model 2"
   ]
  },
  {
   "cell_type": "code",
   "execution_count": 50,
   "id": "63b2e3cc",
   "metadata": {},
   "outputs": [],
   "source": [
    "x_train, y_train, _, _ = preprocessing(x_DF2, y_DF2)"
   ]
  },
  {
   "cell_type": "code",
   "execution_count": 51,
   "id": "d29f6344",
   "metadata": {},
   "outputs": [
    {
     "name": "stdout",
     "output_type": "stream",
     "text": [
      "Best Parameters: {'max_depth': 3, 'min_samples_leaf': 1}\n",
      "Best CV Score:   95.83%\n"
     ]
    }
   ],
   "source": [
    "rf_clf2 = RandomForestClassifier(n_estimators=100, random_state=1)\n",
    "\n",
    "rf_grid2 = GridSearchCV(rf_clf2, rf_parameters, cv=cv, refit='True', n_jobs=-1)\n",
    "rf_grid2.fit(x_train, y_train)\n",
    "\n",
    "rf_mod2 = rf_grid2.best_estimator_\n",
    "\n",
    "print(f'Best Parameters: {rf_grid2.best_params_}')\n",
    "print(f'Best CV Score:   {round(rf_grid2.best_score_*100,2)}%')"
   ]
  },
  {
   "cell_type": "code",
   "execution_count": 52,
   "id": "f9973d9d",
   "metadata": {},
   "outputs": [
    {
     "name": "stdout",
     "output_type": "stream",
     "text": [
      "            setosa  versicolor  virginica\n",
      "setosa          40           0          0\n",
      "versicolor       0          38          2\n",
      "virginica        0           3         37 \n",
      "\n",
      "              precision    recall  f1-score   support\n",
      "\n",
      "      setosa       1.00      1.00      1.00        40\n",
      "  versicolor       0.95      0.93      0.94        40\n",
      "   virginica       0.93      0.95      0.94        40\n",
      "\n",
      "    accuracy                           0.96       120\n",
      "   macro avg       0.96      0.96      0.96       120\n",
      "weighted avg       0.96      0.96      0.96       120\n",
      "\n"
     ]
    }
   ],
   "source": [
    "cv_pred = cross_val_predict(rf_mod2, x_train, y_train, cv=cv)\n",
    "cm_rf_mod2 = confusion_matrix(y_train, cv_pred, labels=[\"setosa\", \"virginica\", \"versicolor\"])\n",
    "cm_rf_mod2_df = pd.DataFrame(cm_rf_mod2, index=[\"setosa\", \"versicolor\", \"virginica\"], columns=[\"setosa\", \"versicolor\", \"virginica\"])\n",
    "\n",
    "cm_rf_mod2 = classification_report(y_train, cv_pred)\n",
    "\n",
    "print(cm_rf_mod2_df,'\\n')\n",
    "print(cm_rf_mod2)"
   ]
  },
  {
   "cell_type": "markdown",
   "id": "09341e80",
   "metadata": {},
   "source": [
    "### RF Model 3"
   ]
  },
  {
   "cell_type": "code",
   "execution_count": 53,
   "id": "ae4ef550",
   "metadata": {},
   "outputs": [],
   "source": [
    "x_train, y_train, _, _ = preprocessing(x_DF3, y_DF3)"
   ]
  },
  {
   "cell_type": "code",
   "execution_count": 54,
   "id": "e95a0b53",
   "metadata": {},
   "outputs": [
    {
     "name": "stdout",
     "output_type": "stream",
     "text": [
      "Best Parameters: {'max_depth': 3, 'min_samples_leaf': 1}\n",
      "Best CV Score:   95.83%\n"
     ]
    }
   ],
   "source": [
    "rf_clf3 = RandomForestClassifier(n_estimators=100, random_state=1)\n",
    "\n",
    "rf_grid3 = GridSearchCV(rf_clf3, rf_parameters, cv=cv, refit='True', n_jobs=-1)\n",
    "rf_grid3.fit(x_train, y_train)\n",
    "\n",
    "rf_mod3 = rf_grid3.best_estimator_\n",
    "\n",
    "print(f'Best Parameters: {rf_grid3.best_params_}')\n",
    "print(f'Best CV Score:   {round(rf_grid3.best_score_*100,2)}%')"
   ]
  },
  {
   "cell_type": "code",
   "execution_count": 55,
   "id": "c89e3681",
   "metadata": {},
   "outputs": [
    {
     "name": "stdout",
     "output_type": "stream",
     "text": [
      "            setosa  versicolor  virginica\n",
      "setosa          40           0          0\n",
      "versicolor       0          38          2\n",
      "virginica        0           3         37 \n",
      "\n",
      "              precision    recall  f1-score   support\n",
      "\n",
      "      setosa       1.00      1.00      1.00        40\n",
      "  versicolor       0.95      0.93      0.94        40\n",
      "   virginica       0.93      0.95      0.94        40\n",
      "\n",
      "    accuracy                           0.96       120\n",
      "   macro avg       0.96      0.96      0.96       120\n",
      "weighted avg       0.96      0.96      0.96       120\n",
      "\n"
     ]
    }
   ],
   "source": [
    "cv_pred = cross_val_predict(rf_mod3, x_train, y_train, cv=cv)\n",
    "cm_rf_mod3 = confusion_matrix(y_train, cv_pred, labels=[\"setosa\", \"virginica\", \"versicolor\"])\n",
    "cm_rf_mod3_df = pd.DataFrame(cm_rf_mod3, index=[\"setosa\", \"versicolor\", \"virginica\"], columns=[\"setosa\", \"versicolor\", \"virginica\"])\n",
    "\n",
    "cm_rf_mod3 = classification_report(y_train, cv_pred)\n",
    "\n",
    "print(cm_rf_mod3_df,'\\n')\n",
    "print(cm_rf_mod3)"
   ]
  },
  {
   "cell_type": "markdown",
   "id": "dc8703a6",
   "metadata": {},
   "source": [
    "### RF Final Model"
   ]
  },
  {
   "cell_type": "code",
   "execution_count": 56,
   "id": "86564ef0",
   "metadata": {},
   "outputs": [
    {
     "name": "stdout",
     "output_type": "stream",
     "text": [
      "DT Cross-Validation-Score: 95.83%\n"
     ]
    }
   ],
   "source": [
    "x_train, y_train, _, _ = preprocessing(x_DF3, y_DF3)\n",
    "\n",
    "rf_mod = RandomForestClassifier(max_depth=3, min_samples_leaf=1, random_state=1)\n",
    "rf_mod.fit(x_train, y_train)\n",
    "\n",
    "rf_mod_scores = cross_val_score(rf_mod, x_train, y_train, cv=cv).mean().round(4)\n",
    "print(f'DT Cross-Validation-Score: {rf_mod_scores*100}%')"
   ]
  },
  {
   "cell_type": "code",
   "execution_count": 57,
   "id": "e0488b70",
   "metadata": {},
   "outputs": [
    {
     "name": "stdout",
     "output_type": "stream",
     "text": [
      "            setosa  versicolor  virginica\n",
      "setosa          40           0          0\n",
      "versicolor       0          38          2\n",
      "virginica        0           3         37 \n",
      "\n",
      "              precision    recall  f1-score   support\n",
      "\n",
      "      setosa       1.00      1.00      1.00        40\n",
      "  versicolor       0.95      0.93      0.94        40\n",
      "   virginica       0.93      0.95      0.94        40\n",
      "\n",
      "    accuracy                           0.96       120\n",
      "   macro avg       0.96      0.96      0.96       120\n",
      "weighted avg       0.96      0.96      0.96       120\n",
      "\n"
     ]
    }
   ],
   "source": [
    "cv_pred = cross_val_predict(rf_mod, x_train, y_train, cv=cv)\n",
    "cm_rf_mod = confusion_matrix(y_train, cv_pred, labels=[\"setosa\", \"virginica\", \"versicolor\"])\n",
    "cm_rf_mod_df = pd.DataFrame(cm_rf_mod, index=[\"setosa\", \"versicolor\", \"virginica\"], columns=[\"setosa\", \"versicolor\", \"virginica\"])\n",
    "\n",
    "cm_rf_mod = classification_report(y_train, cv_pred)\n",
    "\n",
    "print(cm_rf_mod_df,'\\n')\n",
    "print(cm_rf_mod)"
   ]
  },
  {
   "cell_type": "markdown",
   "id": "ec6b3f23",
   "metadata": {},
   "source": [
    "# Final Model"
   ]
  },
  {
   "cell_type": "code",
   "execution_count": 58,
   "id": "5fc2aacd",
   "metadata": {},
   "outputs": [],
   "source": [
    "_, _, x_test, y_test = preprocessing(x, y)\n",
    "# Model names #\n",
    "# log_mod1\n",
    "# log_mod2\n",
    "# log_mod3\n",
    "\n",
    "# knn_mod\n",
    "# dt_mod\n",
    "# rf_mod"
   ]
  },
  {
   "cell_type": "code",
   "execution_count": 59,
   "id": "08ede602",
   "metadata": {},
   "outputs": [
    {
     "name": "stdout",
     "output_type": "stream",
     "text": [
      "Cross-Validation-Score: 100.0%\n"
     ]
    }
   ],
   "source": [
    "ensemble = VotingClassifier(estimators=[('lr1', log_mod1), ('lr2', log_mod2), ('knn_mod', knn_mod)], voting='soft')\n",
    "ensemble.fit(x_test, y_test)\n",
    "\n",
    "cv_score = cross_val_score(ensemble, x_test, y_test, cv=cv, n_jobs=-1).mean().round(4)\n",
    "print(f'Cross-Validation-Score: {cv_score*100}%')"
   ]
  },
  {
   "cell_type": "code",
   "execution_count": 60,
   "id": "9cd19d59",
   "metadata": {},
   "outputs": [
    {
     "name": "stdout",
     "output_type": "stream",
     "text": [
      "            setosa  versicolor  virginica\n",
      "setosa          10           0          0\n",
      "versicolor       0          10          0\n",
      "virginica        0           0         10 \n",
      "\n",
      "              precision    recall  f1-score   support\n",
      "\n",
      "      setosa       1.00      1.00      1.00        10\n",
      "  versicolor       1.00      1.00      1.00        10\n",
      "   virginica       1.00      1.00      1.00        10\n",
      "\n",
      "    accuracy                           1.00        30\n",
      "   macro avg       1.00      1.00      1.00        30\n",
      "weighted avg       1.00      1.00      1.00        30\n",
      "\n"
     ]
    }
   ],
   "source": [
    "cv_pred = cross_val_predict(ensemble, x_test, y_test, cv=cv)\n",
    "cm_ensemble = confusion_matrix(y_test, cv_pred, labels=[\"setosa\", \"virginica\", \"versicolor\"])\n",
    "cm_ensemble_df = pd.DataFrame(cm_ensemble, index=[\"setosa\", \"versicolor\", \"virginica\"], columns=[\"setosa\", \"versicolor\", \"virginica\"])\n",
    "\n",
    "cm_ensemble = classification_report(y_test, cv_pred)\n",
    "\n",
    "print(cm_ensemble_df,'\\n')\n",
    "print(cm_ensemble)"
   ]
  }
 ],
 "metadata": {
  "kernelspec": {
   "display_name": "Python 3 (ipykernel)",
   "language": "python",
   "name": "python3"
  },
  "language_info": {
   "codemirror_mode": {
    "name": "ipython",
    "version": 3
   },
   "file_extension": ".py",
   "mimetype": "text/x-python",
   "name": "python",
   "nbconvert_exporter": "python",
   "pygments_lexer": "ipython3",
   "version": "3.11.4"
  }
 },
 "nbformat": 4,
 "nbformat_minor": 5
}
